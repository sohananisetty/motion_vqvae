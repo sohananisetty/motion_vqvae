{
 "cells": [
  {
   "cell_type": "code",
   "execution_count": 1,
   "id": "8c32d8c6",
   "metadata": {},
   "outputs": [
    {
     "name": "stdout",
     "output_type": "stream",
     "text": [
      "Using device: cuda\n",
      "\n",
      "GeForce RTX 2080 Ti\n",
      "Memory Usage:\n",
      "Allocated: 0.0 GB\n",
      "Cached:    0.0 GB\n"
     ]
    }
   ],
   "source": [
    "# setting device on GPU if available, else CPU\n",
    "import torch\n",
    "device = torch.device('cuda' if torch.cuda.is_available() else 'cpu')\n",
    "print('Using device:', device)\n",
    "print()\n",
    "\n",
    "#Additional Info when using cuda\n",
    "if device.type == 'cuda':\n",
    "    print(torch.cuda.get_device_name(0))\n",
    "    print('Memory Usage:')\n",
    "    print('Allocated:', round(torch.cuda.memory_allocated(0)/1024**3,1), 'GB')\n",
    "    print('Cached:   ', round(torch.cuda.memory_reserved(0)/1024**3,1), 'GB')\n"
   ]
  },
  {
   "cell_type": "code",
   "execution_count": 2,
   "id": "956195ae",
   "metadata": {},
   "outputs": [],
   "source": [
    "%load_ext autoreload\n",
    "%autoreload 2\n",
    "%matplotlib inline"
   ]
  },
  {
   "cell_type": "code",
   "execution_count": 4,
   "id": "e04711d9",
   "metadata": {},
   "outputs": [],
   "source": [
    "import wandb\n",
    "\n",
    "import torch\n",
    "import torch.nn.functional as F\n",
    "import torch.nn as nn\n",
    "from torch.utils.data import DataLoader\n",
    "\n",
    "from torch.utils import data\n",
    "\n",
    "\n",
    "import copy\n",
    "import os\n",
    "import random\n",
    "import cv2\n",
    "import numpy as np\n",
    "from PIL import Image\n",
    "import pandas as pd\n",
    "import matplotlib.pyplot as plt\n",
    "from glob import glob\n",
    "import functools\n",
    "from tqdm import tqdm\n",
    "from datetime import datetime\n",
    "import numpy as np\n",
    "# from core.datasets.vqa_motion_dataset import VQMotionDataset,DATALoader,VQVarLenMotionDataset,MotionCollator,VQFullMotionDataset\n",
    "from einops import rearrange, reduce, pack, unpack\n",
    "import librosa"
   ]
  },
  {
   "cell_type": "code",
   "execution_count": 6,
   "id": "53383651",
   "metadata": {},
   "outputs": [
    {
     "name": "stdout",
     "output_type": "stream",
     "text": [
      "/coc/scratch/sanisetty3/music_motion\n"
     ]
    }
   ],
   "source": [
    "cd .."
   ]
  },
  {
   "cell_type": "code",
   "execution_count": 8,
   "id": "e2aa21b0",
   "metadata": {},
   "outputs": [
    {
     "name": "stdout",
     "output_type": "stream",
     "text": [
      "Cloning into 'EDGE'...\n",
      "remote: Enumerating objects: 52, done.\u001b[K\n",
      "remote: Counting objects: 100% (52/52), done.\u001b[K\n",
      "remote: Compressing objects: 100% (46/46), done.\u001b[K\n",
      "remote: Total 52 (delta 4), reused 51 (delta 4), pack-reused 0\u001b[K\n",
      "Unpacking objects: 100% (52/52), done.\n",
      "Checking connectivity... done.\n"
     ]
    }
   ],
   "source": [
    "!git clone https://github.com/Stanford-TML/EDGE.git"
   ]
  },
  {
   "cell_type": "code",
   "execution_count": 9,
   "id": "d46f30b7",
   "metadata": {},
   "outputs": [
    {
     "name": "stdout",
     "output_type": "stream",
     "text": [
      "/coc/scratch/sanisetty3/music_motion/EDGE\n"
     ]
    }
   ],
   "source": [
    "cd EDGE/"
   ]
  },
  {
   "cell_type": "code",
   "execution_count": 11,
   "id": "f6fe6d44",
   "metadata": {},
   "outputs": [
    {
     "name": "stdout",
     "output_type": "stream",
     "text": [
      "--2023-05-09 20:46:49--  https://docs.google.com/uc?export=download&confirm=t&id=1BAR712cVEqB8GR37fcEihRV_xOC-fZrZ\n",
      "Resolving docs.google.com (docs.google.com)... 64.233.177.113, 64.233.177.139, 64.233.177.101, ...\n",
      "Connecting to docs.google.com (docs.google.com)|64.233.177.113|:443... connected.\n",
      "HTTP request sent, awaiting response... 303 See Other\n",
      "Location: https://doc-14-60-docs.googleusercontent.com/docs/securesc/ha0ro937gcuc7l7deffksulhg5h7mbp1/4sh98ar4cnlsb9od4l04g06gvnlnf22u/1683679575000/18309985336914167546/*/1BAR712cVEqB8GR37fcEihRV_xOC-fZrZ?e=download&uuid=6320162c-99ab-43f2-aa6a-cb8b327f4031 [following]\n",
      "Warning: wildcards not supported in HTTP.\n",
      "--2023-05-09 20:46:49--  https://doc-14-60-docs.googleusercontent.com/docs/securesc/ha0ro937gcuc7l7deffksulhg5h7mbp1/4sh98ar4cnlsb9od4l04g06gvnlnf22u/1683679575000/18309985336914167546/*/1BAR712cVEqB8GR37fcEihRV_xOC-fZrZ?e=download&uuid=6320162c-99ab-43f2-aa6a-cb8b327f4031\n",
      "Resolving doc-14-60-docs.googleusercontent.com (doc-14-60-docs.googleusercontent.com)... 64.233.176.132, 2607:f8b0:4002:c05::84\n",
      "Connecting to doc-14-60-docs.googleusercontent.com (doc-14-60-docs.googleusercontent.com)|64.233.176.132|:443... connected.\n",
      "HTTP request sent, awaiting response... 200 OK\n",
      "Length: 1187620478 (1.1G) [application/x-zip]\n",
      "Saving to: ‘checkpoint.pt’\n",
      "\n",
      "checkpoint.pt       100%[===================>]   1.11G   108MB/s    in 10s     \n",
      "\n",
      "2023-05-09 20:47:00 (111 MB/s) - ‘checkpoint.pt’ saved [1187620478/1187620478]\n",
      "\n"
     ]
    }
   ],
   "source": [
    "!bash download_model.sh"
   ]
  },
  {
   "cell_type": "code",
   "execution_count": null,
   "id": "2d646d01",
   "metadata": {},
   "outputs": [],
   "source": []
  }
 ],
 "metadata": {
  "kernelspec": {
   "display_name": "Python 3",
   "language": "python",
   "name": "python3"
  },
  "language_info": {
   "codemirror_mode": {
    "name": "ipython",
    "version": 3
   },
   "file_extension": ".py",
   "mimetype": "text/x-python",
   "name": "python",
   "nbconvert_exporter": "python",
   "pygments_lexer": "ipython3",
   "version": "3.7.11"
  }
 },
 "nbformat": 4,
 "nbformat_minor": 5
}
