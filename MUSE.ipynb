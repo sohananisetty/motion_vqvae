{
 "cells": [
  {
   "cell_type": "code",
   "execution_count": 1,
   "id": "a8586803",
   "metadata": {},
   "outputs": [
    {
     "name": "stdout",
     "output_type": "stream",
     "text": [
      "Using device: cuda\n",
      "\n",
      "GeForce RTX 2080 Ti\n",
      "Memory Usage:\n",
      "Allocated: 0.0 GB\n",
      "Cached:    0.0 GB\n"
     ]
    }
   ],
   "source": [
    "# setting device on GPU if available, else CPU\n",
    "import torch\n",
    "device = torch.device('cuda' if torch.cuda.is_available() else 'cpu')\n",
    "print('Using device:', device)\n",
    "print()\n",
    "\n",
    "#Additional Info when using cuda\n",
    "if device.type == 'cuda':\n",
    "    print(torch.cuda.get_device_name(0))\n",
    "    print('Memory Usage:')\n",
    "    print('Allocated:', round(torch.cuda.memory_allocated(0)/1024**3,1), 'GB')\n",
    "    print('Cached:   ', round(torch.cuda.memory_reserved(0)/1024**3,1), 'GB')\n"
   ]
  },
  {
   "cell_type": "code",
   "execution_count": 2,
   "id": "ac353e98",
   "metadata": {},
   "outputs": [],
   "source": [
    "%load_ext autoreload\n",
    "%autoreload 2\n",
    "%matplotlib inline"
   ]
  },
  {
   "cell_type": "code",
   "execution_count": 3,
   "id": "d6afa2f2",
   "metadata": {},
   "outputs": [
    {
     "data": {
      "text/plain": [
       "'/coc/scratch/sanisetty3/music_motion/motion_vqvae'"
      ]
     },
     "execution_count": 3,
     "metadata": {},
     "output_type": "execute_result"
    }
   ],
   "source": [
    "pwd"
   ]
  },
  {
   "cell_type": "markdown",
   "id": "470beef3",
   "metadata": {},
   "source": [
    "## VQ"
   ]
  },
  {
   "cell_type": "code",
   "execution_count": 14,
   "id": "a0bf7dde",
   "metadata": {},
   "outputs": [],
   "source": [
    "from core.quantization.vector_quantize_pytorch import VectorQuantize\n",
    "from core.models.encdec import Decoder,Encoder\n",
    "from core.models.conv_vqvae import VQMotionModel"
   ]
  },
  {
   "cell_type": "code",
   "execution_count": 15,
   "id": "90521284",
   "metadata": {},
   "outputs": [],
   "source": [
    "from einops import pack , rearrange, unpack"
   ]
  },
  {
   "cell_type": "code",
   "execution_count": 16,
   "id": "8b5cd831",
   "metadata": {},
   "outputs": [],
   "source": [
    "from configs.config import cfg, get_cfg_defaults\n",
    "\n",
    "\n",
    "cfg_vq = get_cfg_defaults()\n",
    "cfg_vq.merge_from_file(\"/srv/scratch/sanisetty3/music_motion/motion_vqvae/checkpoints/conv_vq/convq_768_1024_affine/convq_768_1024_affine.yaml\")\n",
    "\n",
    "\n"
   ]
  },
  {
   "cell_type": "code",
   "execution_count": 17,
   "id": "bef6a72d",
   "metadata": {},
   "outputs": [],
   "source": [
    "vqmotionmodel = VQMotionModel(cfg_vq.vqvae)"
   ]
  },
  {
   "cell_type": "code",
   "execution_count": null,
   "id": "db04c79a",
   "metadata": {},
   "outputs": [],
   "source": []
  },
  {
   "cell_type": "code",
   "execution_count": 18,
   "id": "4f75460a",
   "metadata": {},
   "outputs": [],
   "source": [
    "decoded_motion_features , indices, commit_loss = vqmotionmodel(torch.randn((4,64,263)))\n"
   ]
  },
  {
   "cell_type": "code",
   "execution_count": 21,
   "id": "61071379",
   "metadata": {},
   "outputs": [
    {
     "data": {
      "text/plain": [
       "torch.Size([4, 64, 263])"
      ]
     },
     "execution_count": 21,
     "metadata": {},
     "output_type": "execute_result"
    }
   ],
   "source": [
    "decoded_motion_features.shape"
   ]
  },
  {
   "cell_type": "code",
   "execution_count": 20,
   "id": "b1a05de2",
   "metadata": {},
   "outputs": [
    {
     "data": {
      "text/plain": [
       "torch.Size([4, 8])"
      ]
     },
     "execution_count": 20,
     "metadata": {},
     "output_type": "execute_result"
    }
   ],
   "source": [
    "indices.shape"
   ]
  },
  {
   "cell_type": "code",
   "execution_count": 29,
   "id": "15aacfbb",
   "metadata": {},
   "outputs": [],
   "source": [
    "quant = vqmotionmodel.vq.get_codes_from_indices(indices)"
   ]
  },
  {
   "cell_type": "code",
   "execution_count": 24,
   "id": "1441393c",
   "metadata": {},
   "outputs": [
    {
     "data": {
      "text/plain": [
       "8.0"
      ]
     },
     "execution_count": 24,
     "metadata": {},
     "output_type": "execute_result"
    }
   ],
   "source": [
    "6144/768"
   ]
  },
  {
   "cell_type": "code",
   "execution_count": 32,
   "id": "917bed6c",
   "metadata": {},
   "outputs": [
    {
     "data": {
      "text/plain": [
       "torch.Size([4, 64, 263])"
      ]
     },
     "execution_count": 32,
     "metadata": {},
     "output_type": "execute_result"
    }
   ],
   "source": [
    "vqmotionmodel.motionDecoder(quant.reshape(quant.shape[0] , -1  , 768)).shape"
   ]
  },
  {
   "cell_type": "code",
   "execution_count": null,
   "id": "4e64c2e2",
   "metadata": {},
   "outputs": [],
   "source": []
  },
  {
   "cell_type": "code",
   "execution_count": 6,
   "id": "4ab0cd3d",
   "metadata": {},
   "outputs": [],
   "source": [
    "vq = VectorQuantize(\n",
    "    dim = 768,\n",
    "    codebook_size = 1024,     # codebook size\n",
    "    decay = 0.8,             # the exponential moving average decay, lower means the dictionary will change faster\n",
    "    commitment_weight = 5.,   # the weight on the commitment loss\n",
    "    kmeans_init = True,   # set to True\n",
    "    kmeans_iters = 10 ,\n",
    "    threshold_ema_dead_code = 2,\n",
    "    sync_codebook = False,\n",
    "    sync_affine_param = False,\n",
    "    sync_kmeans=  False,\n",
    "    \n",
    "    \n",
    "    learnable_codebook = True,\n",
    "    in_place_codebook_optimizer = lambda *args, **kwargs: torch.optim.SGD(*args, **kwargs, lr=1.0, momentum=0.9),\n",
    "    \n",
    "    affine_param = True,\n",
    "    affine_param_batch_decay = 0.99,\n",
    "    affine_param_codebook_decay = 0.9,\n",
    "    ema_update = False,\n",
    "    \n",
    "    \n",
    ")\n"
   ]
  },
  {
   "cell_type": "code",
   "execution_count": 7,
   "id": "b0158244",
   "metadata": {},
   "outputs": [],
   "source": [
    "x = torch.randn(1, 1024, 768)\n",
    "quantized, indices, commit_loss = vq(x)"
   ]
  },
  {
   "cell_type": "code",
   "execution_count": null,
   "id": "5523ec68",
   "metadata": {},
   "outputs": [],
   "source": []
  },
  {
   "cell_type": "code",
   "execution_count": null,
   "id": "8a089ceb",
   "metadata": {
    "scrolled": false
   },
   "outputs": [],
   "source": []
  },
  {
   "cell_type": "code",
   "execution_count": 29,
   "id": "5e16bdce",
   "metadata": {},
   "outputs": [],
   "source": [
    "x = torch.randn(4, 1024, 263)\n"
   ]
  },
  {
   "cell_type": "code",
   "execution_count": null,
   "id": "0d9020e0",
   "metadata": {},
   "outputs": [],
   "source": []
  },
  {
   "cell_type": "code",
   "execution_count": 52,
   "id": "cf969a8f",
   "metadata": {},
   "outputs": [],
   "source": [
    "encoder = Encoder(263, 768, 3, 2, 768, 3, 3, activation='relu', norm=None)\n",
    "decoder = Decoder(263, 768, 3, 2, 768, 3, 3, activation='relu', norm=None)"
   ]
  },
  {
   "cell_type": "code",
   "execution_count": null,
   "id": "ae1630f6",
   "metadata": {},
   "outputs": [],
   "source": []
  },
  {
   "cell_type": "code",
   "execution_count": 53,
   "id": "c4268d03",
   "metadata": {},
   "outputs": [],
   "source": [
    "x = torch.randn(4, 1024, 263)\n",
    "x_encoder = encoder(x)\n"
   ]
  },
  {
   "cell_type": "code",
   "execution_count": 54,
   "id": "43d333ba",
   "metadata": {},
   "outputs": [
    {
     "data": {
      "text/plain": [
       "torch.Size([4, 128, 768])"
      ]
     },
     "execution_count": 54,
     "metadata": {},
     "output_type": "execute_result"
    }
   ],
   "source": [
    "x_encoder.shape"
   ]
  },
  {
   "cell_type": "code",
   "execution_count": 55,
   "id": "fc5af8ad",
   "metadata": {},
   "outputs": [],
   "source": [
    "quantized, indices, commit_loss = vq(x_encoder)"
   ]
  },
  {
   "cell_type": "code",
   "execution_count": 56,
   "id": "f118e3ec",
   "metadata": {},
   "outputs": [
    {
     "data": {
      "text/plain": [
       "torch.Size([4, 128, 768])"
      ]
     },
     "execution_count": 56,
     "metadata": {},
     "output_type": "execute_result"
    }
   ],
   "source": [
    "quantized.shape"
   ]
  },
  {
   "cell_type": "code",
   "execution_count": 57,
   "id": "08e6c9bb",
   "metadata": {},
   "outputs": [
    {
     "data": {
      "text/plain": [
       "torch.Size([4, 1024, 263])"
      ]
     },
     "execution_count": 57,
     "metadata": {},
     "output_type": "execute_result"
    }
   ],
   "source": [
    "x_decoder = decoder(quantized)\n",
    "x_decoder.shape"
   ]
  },
  {
   "cell_type": "code",
   "execution_count": 58,
   "id": "2a0aaf5b",
   "metadata": {},
   "outputs": [
    {
     "data": {
      "text/plain": [
       "torch.Size([4, 1024, 263])"
      ]
     },
     "execution_count": 58,
     "metadata": {},
     "output_type": "execute_result"
    }
   ],
   "source": [
    "out.shape"
   ]
  },
  {
   "cell_type": "markdown",
   "id": "69dc40b3",
   "metadata": {},
   "source": [
    "## Dataset"
   ]
  },
  {
   "cell_type": "code",
   "execution_count": 34,
   "id": "2d117093",
   "metadata": {},
   "outputs": [],
   "source": [
    "from glob import glob\n",
    "import numpy as np\n",
    "import matplotlib.pyplot as plt\n",
    "import os"
   ]
  },
  {
   "cell_type": "code",
   "execution_count": 195,
   "id": "1b718e53",
   "metadata": {},
   "outputs": [],
   "source": [
    "t2m = glob(\"/srv/scratch/sanisetty3/music_motion/HumanML3D/HumanML3D/new_joint_vecs/*.npy\")\n",
    "aist = glob(\"/srv/scratch/sanisetty3/music_motion/AIST/new_joint_vecs/*.npy\")\n",
    "choreomaster= glob(\"/srv/scratch/sanisetty3/music_motion/Choreomaster/new_joint_vecs/*.npy\")"
   ]
  },
  {
   "cell_type": "code",
   "execution_count": 230,
   "id": "a43fddb2",
   "metadata": {},
   "outputs": [],
   "source": [
    "choreomaster2= sorted(glob(\"/srv/scratch/sanisetty3/music_motion/Choreomaster/joint_indices/1010/*.npy\"))"
   ]
  },
  {
   "cell_type": "code",
   "execution_count": 231,
   "id": "39221918",
   "metadata": {},
   "outputs": [
    {
     "data": {
      "text/plain": [
       "(3232, 263)"
      ]
     },
     "execution_count": 231,
     "metadata": {},
     "output_type": "execute_result"
    }
   ],
   "source": [
    "np.load(\"/srv/scratch/sanisetty3/music_motion/Choreomaster/new_joint_vecs/1010.npy\").shape"
   ]
  },
  {
   "cell_type": "code",
   "execution_count": 35,
   "id": "8b4295d2",
   "metadata": {},
   "outputs": [],
   "source": [
    "files = sorted(glob(\"/srv/scratch/sanisetty3/music_motion/Choreomaster/new_joint_vecs/*.npy\"))\n",
    "file_names = [os.path.basename(_).split(\".\")[0] for _ in files]"
   ]
  },
  {
   "cell_type": "code",
   "execution_count": null,
   "id": "0a355472",
   "metadata": {},
   "outputs": [],
   "source": [
    "np.random.choice(file_names , 0.8)"
   ]
  },
  {
   "cell_type": "code",
   "execution_count": 36,
   "id": "36131ad9",
   "metadata": {
    "scrolled": true
   },
   "outputs": [],
   "source": [
    "with open(\"/srv/scratch/sanisetty3/music_motion/Choreomaster/all.txt\", \"w\") as txt_file:\n",
    "    for line in file_names:\n",
    "        txt_file.write(line + \"\\n\") "
   ]
  },
  {
   "cell_type": "code",
   "execution_count": 37,
   "id": "af67d6a2",
   "metadata": {},
   "outputs": [
    {
     "data": {
      "text/plain": [
       "28.8"
      ]
     },
     "execution_count": 37,
     "metadata": {},
     "output_type": "execute_result"
    }
   ],
   "source": [
    "36*0.8"
   ]
  },
  {
   "cell_type": "code",
   "execution_count": 221,
   "id": "6e9e89cb",
   "metadata": {},
   "outputs": [
    {
     "data": {
      "text/plain": [
       "63.2"
      ]
     },
     "execution_count": 221,
     "metadata": {},
     "output_type": "execute_result"
    }
   ],
   "source": []
  },
  {
   "cell_type": "code",
   "execution_count": 228,
   "id": "41504c66",
   "metadata": {},
   "outputs": [
    {
     "data": {
      "text/plain": [
       "'0:02:14.708333'"
      ]
     },
     "execution_count": 228,
     "metadata": {},
     "output_type": "execute_result"
    }
   ],
   "source": [
    "import datetime\n",
    "str(datetime.timedelta(seconds=(c71/24)))"
   ]
  },
  {
   "cell_type": "code",
   "execution_count": null,
   "id": "f8a1f8db",
   "metadata": {},
   "outputs": [],
   "source": []
  },
  {
   "cell_type": "code",
   "execution_count": 140,
   "id": "6cd36f25",
   "metadata": {},
   "outputs": [
    {
     "data": {
      "text/plain": [
       "35.45"
      ]
     },
     "execution_count": 140,
     "metadata": {},
     "output_type": "execute_result"
    }
   ],
   "source": [
    "709/20"
   ]
  },
  {
   "cell_type": "code",
   "execution_count": 69,
   "id": "52612062",
   "metadata": {},
   "outputs": [],
   "source": [
    "all_motions = t2m + aist + choreomaster"
   ]
  },
  {
   "cell_type": "code",
   "execution_count": 93,
   "id": "31e36e2e",
   "metadata": {},
   "outputs": [
    {
     "name": "stdout",
     "output_type": "stream",
     "text": [
      "29228\n",
      "31954\n",
      "72\n"
     ]
    }
   ],
   "source": [
    "print(len(t2m))\n",
    "print(len(aist) + len(t2m))\n",
    "print(len(choreomaster))"
   ]
  },
  {
   "cell_type": "code",
   "execution_count": 76,
   "id": "f20b697b",
   "metadata": {},
   "outputs": [],
   "source": [
    "lens = []\n",
    "for i in all_motions:\n",
    "    lens.append(np.load(i).shape[0])"
   ]
  },
  {
   "cell_type": "code",
   "execution_count": null,
   "id": "4e86fa5f",
   "metadata": {},
   "outputs": [],
   "source": []
  },
  {
   "cell_type": "code",
   "execution_count": 91,
   "id": "0a4bf82a",
   "metadata": {},
   "outputs": [
    {
     "data": {
      "text/plain": [
       "31984"
      ]
     },
     "execution_count": 91,
     "metadata": {},
     "output_type": "execute_result"
    }
   ],
   "source": [
    "np.argmax(lens)"
   ]
  },
  {
   "cell_type": "code",
   "execution_count": 86,
   "id": "a52aa982",
   "metadata": {},
   "outputs": [
    {
     "data": {
      "text/plain": [
       "158.6747018047836"
      ]
     },
     "execution_count": 86,
     "metadata": {},
     "output_type": "execute_result"
    }
   ],
   "source": [
    "np.mean(lens)"
   ]
  },
  {
   "cell_type": "code",
   "execution_count": 87,
   "id": "086d9c72",
   "metadata": {},
   "outputs": [
    {
     "data": {
      "text/plain": [
       "35160.657873084434"
      ]
     },
     "execution_count": 87,
     "metadata": {},
     "output_type": "execute_result"
    }
   ],
   "source": [
    "np.var(lens)"
   ]
  },
  {
   "cell_type": "code",
   "execution_count": 137,
   "id": "53071916",
   "metadata": {},
   "outputs": [
    {
     "data": {
      "text/plain": [
       "29398"
      ]
     },
     "execution_count": 137,
     "metadata": {},
     "output_type": "execute_result"
    }
   ],
   "source": [
    "sum(np.array(lens) >= 60)"
   ]
  },
  {
   "cell_type": "code",
   "execution_count": 135,
   "id": "006074af",
   "metadata": {},
   "outputs": [
    {
     "data": {
      "text/plain": [
       "2628"
      ]
     },
     "execution_count": 135,
     "metadata": {},
     "output_type": "execute_result"
    }
   ],
   "source": [
    "sum(np.array(lens) < 60)"
   ]
  },
  {
   "cell_type": "code",
   "execution_count": null,
   "id": "a3fafab3",
   "metadata": {},
   "outputs": [],
   "source": []
  },
  {
   "cell_type": "code",
   "execution_count": 133,
   "id": "ce7ee3af",
   "metadata": {},
   "outputs": [
    {
     "data": {
      "text/plain": [
       "(array([  180.,  1020.,  1428.,  2792.,  3230.,  2894.,  2076.,  2874.,\n",
       "         2106., 12158.]),\n",
       " array([  0.,  20.,  40.,  60.,  80., 100., 120., 140., 160., 180., 200.]),\n",
       " <BarContainer object of 10 artists>)"
      ]
     },
     "execution_count": 133,
     "metadata": {},
     "output_type": "execute_result"
    },
    {
     "data": {
      "image/png": "[encoded data removed]",
      "text/plain": [
       "<Figure size 432x288 with 1 Axes>"
      ]
     },
     "metadata": {
      "needs_background": "light"
     },
     "output_type": "display_data"
    }
   ],
   "source": [
    "plt.hist(lens , bins = 10, range = (0,200))"
   ]
  },
  {
   "cell_type": "code",
   "execution_count": null,
   "id": "1c753d62",
   "metadata": {},
   "outputs": [],
   "source": []
  },
  {
   "cell_type": "code",
   "execution_count": 97,
   "id": "f5a1035f",
   "metadata": {},
   "outputs": [],
   "source": [
    "username=\"sohananisetty630@gmail.com\"\n",
    "password=\"!Mindstormev3\""
   ]
  },
  {
   "cell_type": "code",
   "execution_count": 105,
   "id": "bece08e9",
   "metadata": {},
   "outputs": [],
   "source": [
    "# !wget --post-data \"username=$username&password=$password\" --no-check-certificate \"https://download.is.tue.mpg.de/download.php?domain=moyo&resume=1&sfile=MOYO/20220923_20220926_with_hands/mosh.zip\""
   ]
  },
  {
   "cell_type": "code",
   "execution_count": 103,
   "id": "63df0961",
   "metadata": {},
   "outputs": [],
   "source": [
    "# !wget --post-data \"username=$username&password=$password\" --no-check-certificate  \"https://download.is.tue.mpg.de/download.php?domain=moyo&resume=1&sfile=MOYO/20221004_with_com/mosh.zip\""
   ]
  },
  {
   "cell_type": "code",
   "execution_count": null,
   "id": "4f30ad3d",
   "metadata": {},
   "outputs": [],
   "source": []
  },
  {
   "cell_type": "code",
   "execution_count": 108,
   "id": "7f36b224",
   "metadata": {},
   "outputs": [
    {
     "name": "stdout",
     "output_type": "stream",
     "text": [
      "Archive:  mosh1.zip\n",
      "replace mosh/train/220923_yogi_body_hands_03596_Split_pose-b_stageii.pkl? [y]es, [n]o, [A]ll, [N]one, [r]ename: ^C\n"
     ]
    }
   ],
   "source": [
    "!unzip mosh1.zip"
   ]
  },
  {
   "cell_type": "code",
   "execution_count": 109,
   "id": "d8e16668",
   "metadata": {},
   "outputs": [],
   "source": [
    "with open('mosh2/train/220923_yogi_body_hands_03596_Boat_Pose_or_Paripurna_Navasana_-a_stageii.pkl', 'rb') as f:\n",
    "    x = pickle.load(f)\n"
   ]
  },
  {
   "cell_type": "code",
   "execution_count": 113,
   "id": "e5516dd4",
   "metadata": {},
   "outputs": [
    {
     "data": {
      "text/plain": [
       "dict_keys(['fullpose', 'trans', 'stageii_debug_details', 'betas', 'markers_latent', 'latent_labels', 'marker_meta', 'markers_latent_vids', 'v_template_fname', 'stagei_debug_details'])"
      ]
     },
     "execution_count": 113,
     "metadata": {},
     "output_type": "execute_result"
    }
   ],
   "source": [
    "x.keys()"
   ]
  },
  {
   "cell_type": "code",
   "execution_count": 114,
   "id": "8ac7d07b",
   "metadata": {},
   "outputs": [
    {
     "data": {
      "text/plain": [
       "(892, 165)"
      ]
     },
     "execution_count": 114,
     "metadata": {},
     "output_type": "execute_result"
    }
   ],
   "source": [
    "x[\"fullpose\"].shape"
   ]
  },
  {
   "cell_type": "code",
   "execution_count": 115,
   "id": "11422069",
   "metadata": {},
   "outputs": [
    {
     "data": {
      "text/plain": [
       "(892, 3)"
      ]
     },
     "execution_count": 115,
     "metadata": {},
     "output_type": "execute_result"
    }
   ],
   "source": [
    "x[\"trans\"].shape"
   ]
  },
  {
   "cell_type": "code",
   "execution_count": null,
   "id": "84441bbf",
   "metadata": {},
   "outputs": [],
   "source": []
  }
 ],
 "metadata": {
  "kernelspec": {
   "display_name": "Python 3",
   "language": "python",
   "name": "python3"
  },
  "language_info": {
   "codemirror_mode": {
    "name": "ipython",
    "version": 3
   },
   "file_extension": ".py",
   "mimetype": "text/x-python",
   "name": "python",
   "nbconvert_exporter": "python",
   "pygments_lexer": "ipython3",
   "version": "3.7.11"
  }
 },
 "nbformat": 4,
 "nbformat_minor": 5
}
