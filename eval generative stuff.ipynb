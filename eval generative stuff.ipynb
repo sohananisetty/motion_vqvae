{
 "cells": [
  {
   "cell_type": "code",
   "execution_count": 1,
   "id": "91218002",
   "metadata": {},
   "outputs": [
    {
     "name": "stdout",
     "output_type": "stream",
     "text": [
      "Using device: cuda\n",
      "\n",
      "GeForce RTX 2080 Ti\n",
      "Memory Usage:\n",
      "Allocated: 0.0 GB\n",
      "Cached:    0.0 GB\n"
     ]
    }
   ],
   "source": [
    "# setting device on GPU if available, else CPU\n",
    "import torch\n",
    "device = torch.device('cuda' if torch.cuda.is_available() else 'cpu')\n",
    "print('Using device:', device)\n",
    "print()\n",
    "\n",
    "#Additional Info when using cuda\n",
    "if device.type == 'cuda':\n",
    "    print(torch.cuda.get_device_name(0))\n",
    "    print('Memory Usage:')\n",
    "    print('Allocated:', round(torch.cuda.memory_allocated(0)/1024**3,1), 'GB')\n",
    "    print('Cached:   ', round(torch.cuda.memory_reserved(0)/1024**3,1), 'GB')\n"
   ]
  },
  {
   "cell_type": "code",
   "execution_count": 2,
   "id": "15522598",
   "metadata": {},
   "outputs": [],
   "source": [
    "%load_ext autoreload\n",
    "%autoreload 2\n",
    "%matplotlib inline"
   ]
  },
  {
   "cell_type": "code",
   "execution_count": 3,
   "id": "5865c379",
   "metadata": {},
   "outputs": [],
   "source": [
    "import wandb\n",
    "\n",
    "import torch\n",
    "import torch.nn.functional as F\n",
    "import torch.nn as nn\n",
    "from torch.utils.data import DataLoader\n",
    "\n",
    "from torch.utils import data\n",
    "\n",
    "\n",
    "import copy\n",
    "import os\n",
    "import random\n",
    "import cv2\n",
    "import numpy as np\n",
    "from PIL import Image\n",
    "import pandas as pd\n",
    "import matplotlib.pyplot as plt\n",
    "from glob import glob\n",
    "import functools\n",
    "from tqdm import tqdm\n",
    "from datetime import datetime\n",
    "import numpy as np\n",
    "from core.datasets.vqa_motion_dataset import VQMotionDataset,DATALoader,VQVarLenMotionDataset,MotionCollator,VQFullMotionDataset\n",
    "from einops import rearrange, reduce, pack, unpack\n",
    "import librosa"
   ]
  },
  {
   "cell_type": "code",
   "execution_count": null,
   "id": "803d28e7",
   "metadata": {},
   "outputs": [],
   "source": []
  },
  {
   "cell_type": "markdown",
   "id": "6e50345f",
   "metadata": {},
   "source": [
    "## Our method"
   ]
  },
  {
   "cell_type": "code",
   "execution_count": 107,
   "id": "361d1480",
   "metadata": {},
   "outputs": [],
   "source": [
    "from utils.motion_process import recover_from_ric\n",
    "import visualize.plot_3d_global as plot_3d\n",
    "from glob import glob\n",
    "def to_xyz(motion, mean ,std , j = 22):\n",
    "    motion_xyz = recover_from_ric(motion.cpu().float()*std+mean, j)\n",
    "    motion_xyz = motion_xyz.reshape(motion.shape[0],-1, j, 3)\n",
    "    return motion_xyz\n",
    "\n",
    "            \n",
    "def sample_render(motion_xyz , name , save_path):\n",
    "    print(f\"render start\")\n",
    "    \n",
    "    gt_pose_vis = plot_3d.draw_to_batch(motion_xyz.numpy(),None, [os.path.join(save_path,name + \".gif\")])\n",
    "\n"
   ]
  },
  {
   "cell_type": "code",
   "execution_count": 5,
   "id": "2f97d17b",
   "metadata": {},
   "outputs": [],
   "source": [
    "from configs.config import cfg, get_cfg_defaults\n",
    "from core.models.vqvae import VQMotionModel\n",
    "from core.models.motion_regressor import MotionRegressorModel\n",
    "\n",
    "cfg_vq = get_cfg_defaults()\n",
    "cfg_vq.merge_from_file(\"/srv/scratch/sanisetty3/music_motion/motion_vqvae/configs/var_len_768_768_aist_vq.yaml\")\n",
    "\n",
    "\n",
    "cfg_trans = get_cfg_defaults()\n",
    "cfg_trans.merge_from_file(\"/srv/scratch/sanisetty3/music_motion/motion_vqvae/configs/var_len_768_768_aist.yaml\")\n",
    "\n"
   ]
  },
  {
   "cell_type": "code",
   "execution_count": 6,
   "id": "c964c6a3",
   "metadata": {},
   "outputs": [
    {
     "name": "stdout",
     "output_type": "stream",
     "text": [
      "tensor([295000.])\n"
     ]
    }
   ],
   "source": [
    "vqvae_model = VQMotionModel(cfg_vq.vqvae).eval()\n",
    "pkg = torch.load(f\"/srv/scratch/sanisetty3/music_motion/motion_vqvae/checkpoints/var_len/vq_768_768_mix/vqvae_motion_best_fid.pt\", map_location = 'cpu')\n",
    "print(pkg[\"steps\"])\n",
    "vqvae_model.load_state_dict(pkg[\"model\"])\n",
    "vqvae_model =vqvae_model.cuda()\n"
   ]
  },
  {
   "cell_type": "code",
   "execution_count": 7,
   "id": "a1cbf68b",
   "metadata": {},
   "outputs": [
    {
     "name": "stdout",
     "output_type": "stream",
     "text": [
      "tensor([195000.])\n"
     ]
    }
   ],
   "source": [
    "trans_model = MotionRegressorModel(args = cfg_trans.motion_trans , ignore_index=1025 ,pad_value=1025 ).eval()\n",
    "pkg_trans = torch.load(f\"/srv/scratch/sanisetty3/music_motion/motion_vqvae/checkpoints/generator/var_len/trans_768_768_albi_aist/trans_motion_best_fid.pt\", map_location = 'cpu')\n",
    "print(pkg_trans[\"steps\"])\n",
    "trans_model.load_state_dict(pkg_trans[\"model\"])\n",
    "trans_model =trans_model.cuda()\n"
   ]
  },
  {
   "cell_type": "code",
   "execution_count": 90,
   "id": "92197f00",
   "metadata": {},
   "outputs": [],
   "source": [
    "os.makedirs(\"/srv/scratch/sanisetty3/music_motion/motion_vqvae/evals/generator/var_len/trans_768_768_albi_aist/\", exist_ok=True)"
   ]
  },
  {
   "cell_type": "code",
   "execution_count": null,
   "id": "094d3956",
   "metadata": {},
   "outputs": [],
   "source": []
  },
  {
   "cell_type": "code",
   "execution_count": null,
   "id": "84aa7ff2",
   "metadata": {},
   "outputs": [],
   "source": []
  },
  {
   "cell_type": "code",
   "execution_count": null,
   "id": "b8fcf278",
   "metadata": {},
   "outputs": [],
   "source": []
  },
  {
   "cell_type": "markdown",
   "id": "180f96f8",
   "metadata": {},
   "source": [
    "## Motion generation"
   ]
  },
  {
   "cell_type": "code",
   "execution_count": 109,
   "id": "d7a14bd5",
   "metadata": {},
   "outputs": [],
   "source": [
    "from core.datasets.vqa_motion_dataset import MotionCollatorConditional,VQVarLenMotionDatasetConditional, TransMotionDatasetConditional,TransMotionDatasetConditionalFull\n",
    "from utils.eval_music import evaluate_music_motion_vqvae, evaluate_music_motion_trans,get_target_indices\n"
   ]
  },
  {
   "cell_type": "code",
   "execution_count": 110,
   "id": "b8c647ad",
   "metadata": {},
   "outputs": [],
   "source": [
    "def process_gen_output(gen_motion_indices , seq_len):\n",
    "    eos_index = (gen_motion_indices == 1026).nonzero().flatten().tolist()\n",
    "    # print(eos_index)\n",
    "    pad_index = (gen_motion_indices == 1025).nonzero().flatten().tolist()\n",
    "    # print(pad_index)\n",
    "    bos_index = (gen_motion_indices == 1024).nonzero().flatten().tolist()\n",
    "    # print(bos_index)\n",
    "    stop_index = min([*eos_index , *pad_index , *bos_index, seq_len])\n",
    "\n",
    "    gen_motion_indices_ = gen_motion_indices[:int(stop_index)]\n",
    "\n",
    "    return gen_motion_indices_\n"
   ]
  },
  {
   "cell_type": "code",
   "execution_count": 111,
   "id": "aaa167e7",
   "metadata": {},
   "outputs": [],
   "source": [
    "    def get_target_indices2(batch , trans_model , sample_max = False , bos = 1024,pad = 1025,eos = 1026):\n",
    "    ##batch size = 1\n",
    "\n",
    "        inp, target = batch[\"motion\"][:, :-1], batch[\"motion\"][:, 1:]\n",
    "        # print(target.shape)\n",
    "\n",
    "        ##inp: b seqlen-1 target: b seqlen-1\n",
    "        length = int(batch[\"motion_lengths\"][0])\n",
    "        # print(length)\n",
    "\n",
    "        logits = trans_model(motion = inp.cuda() , mask = batch[\"motion_mask\"][:,:-1].cuda()  , \\\n",
    "            context = batch[\"condition\"].cuda(), context_mask = batch[\"condition_mask\"].cuda())\n",
    "\n",
    "        probs = torch.softmax(logits[0][:length], dim=-1)\n",
    "        if sample_max:\n",
    "            _, cls_pred_index = torch.max(probs, dim=-1)\n",
    "\n",
    "        else:\n",
    "            dist = torch.distributions.Categorical(probs)\n",
    "            cls_pred_index = dist.sample()\n",
    "        # print(cls_pred_index.shape)\n",
    "\n",
    "\n",
    "        ## cls_pred_index - list\n",
    "\n",
    "        eos_index = (cls_pred_index == eos).nonzero().flatten().tolist()\n",
    "        # print(eos_index)\n",
    "        pad_index = (cls_pred_index == pad).nonzero().flatten().tolist()\n",
    "        # print(pad_index)\n",
    "        bos_index = (cls_pred_index == bos).nonzero().flatten().tolist()\n",
    "        # print(bos_index)\n",
    "        stop_index = min([*eos_index , *pad_index , *bos_index, length-1])\n",
    "\n",
    "        gen_motion_indices_ = cls_pred_index[:int(stop_index)]\n",
    "        gt_motion_indices_ = target[target<bos]\n",
    "\n",
    "        # print(gen_motion_indices_.dtype , gt_motion_indices_.dtype)\n",
    "\n",
    "\n",
    "        gen_motion_indices_ = (gen_motion_indices_).contiguous().view(1,-1)\n",
    "        gt_motion_indices_ = gt_motion_indices_.contiguous().view(1,-1)\n",
    "        # print(gen_motion_indices_.shape,gt_motion_indices_.shape)\n",
    "\n",
    "\n",
    "        return gen_motion_indices_ , gt_motion_indices_"
   ]
  },
  {
   "cell_type": "code",
   "execution_count": null,
   "id": "80678b26",
   "metadata": {},
   "outputs": [],
   "source": []
  },
  {
   "cell_type": "code",
   "execution_count": 112,
   "id": "e31550e8",
   "metadata": {},
   "outputs": [
    {
     "name": "stderr",
     "output_type": "stream",
     "text": [
      "100%|██████████| 40/40 [00:00<00:00, 768.11it/s]"
     ]
    },
    {
     "name": "stdout",
     "output_type": "stream",
     "text": [
      "Total number of motions 40\n"
     ]
    },
    {
     "name": "stderr",
     "output_type": "stream",
     "text": [
      "\n"
     ]
    }
   ],
   "source": [
    "train_ds = TransMotionDatasetConditionalFull(\"aist\", split = \"test\",data_root = \"/srv/scratch/sanisetty3/music_motion/AIST\" , datafolder=\"joint_indices_max_400\", window_size = -1)\n"
   ]
  },
  {
   "cell_type": "code",
   "execution_count": 12,
   "id": "f3a962a9",
   "metadata": {},
   "outputs": [],
   "source": [
    "collate_fn2 = MotionCollatorConditional(dataset_name = \"aist\" , bos = 1024, pad = 1025, eos = 1026)\n"
   ]
  },
  {
   "cell_type": "code",
   "execution_count": 13,
   "id": "0876497f",
   "metadata": {},
   "outputs": [],
   "source": [
    "dl = DATALoader(train_ds , batch_size = 1,collate_fn=collate_fn2)\n"
   ]
  },
  {
   "cell_type": "code",
   "execution_count": 177,
   "id": "efc18de2",
   "metadata": {},
   "outputs": [
    {
     "name": "stdout",
     "output_type": "stream",
     "text": [
      "motion torch.Size([1, 192])\n",
      "motion_lengths torch.Size([1])\n",
      "motion_mask torch.Size([1, 192])\n",
      "names (1,)\n",
      "condition torch.Size([1, 191, 128])\n",
      "condition_mask torch.Size([1, 191])\n"
     ]
    }
   ],
   "source": [
    "for reg_batch in dl:\n",
    "    break\n",
    "for k,v in reg_batch.items():\n",
    "    print(k , v.shape)\n",
    "    try:\n",
    "        v = v.cuda()\n",
    "    except:\n",
    "        continue"
   ]
  },
  {
   "cell_type": "code",
   "execution_count": 178,
   "id": "ebcd962a",
   "metadata": {},
   "outputs": [],
   "source": [
    "music_name = str(reg_batch[\"names\"]).split(\"_\")[-2]\n",
    "music_encoding=  np.load(os.path.join(\"/srv/scratch/sanisetty3/music_motion/AIST/music\" , music_name + \".npy\"))"
   ]
  },
  {
   "cell_type": "code",
   "execution_count": 185,
   "id": "52121bae",
   "metadata": {},
   "outputs": [
    {
     "data": {
      "text/plain": [
       "'mKR2'"
      ]
     },
     "execution_count": 185,
     "metadata": {},
     "output_type": "execute_result"
    }
   ],
   "source": [
    "music_name"
   ]
  },
  {
   "cell_type": "code",
   "execution_count": 15,
   "id": "522d6e1e",
   "metadata": {},
   "outputs": [],
   "source": [
    "inp, target = reg_batch[\"motion\"][:, :-1], reg_batch[\"motion\"][:, 1:]"
   ]
  },
  {
   "cell_type": "code",
   "execution_count": 43,
   "id": "2ffbe865",
   "metadata": {},
   "outputs": [
    {
     "data": {
      "text/plain": [
       "torch.Size([1, 1])"
      ]
     },
     "execution_count": 43,
     "metadata": {},
     "output_type": "execute_result"
    }
   ],
   "source": [
    "inp[:,:1].shape"
   ]
  },
  {
   "cell_type": "code",
   "execution_count": 114,
   "id": "063a1944",
   "metadata": {},
   "outputs": [],
   "source": [
    "gen_motion_indices , gt_motion_indices = get_target_indices2(reg_batch , trans_model)"
   ]
  },
  {
   "cell_type": "code",
   "execution_count": 115,
   "id": "37757048",
   "metadata": {},
   "outputs": [
    {
     "data": {
      "text/plain": [
       "torch.Size([1, 140])"
      ]
     },
     "execution_count": 115,
     "metadata": {},
     "output_type": "execute_result"
    }
   ],
   "source": [
    "gen_motion_indices.shape"
   ]
  },
  {
   "cell_type": "code",
   "execution_count": 180,
   "id": "c1e8390e",
   "metadata": {},
   "outputs": [
    {
     "name": "stderr",
     "output_type": "stream",
     "text": [
      "100%|██████████| 400/400 [00:08<00:00, 45.15it/s]\n"
     ]
    },
    {
     "name": "stdout",
     "output_type": "stream",
     "text": [
      "401\n"
     ]
    },
    {
     "name": "stderr",
     "output_type": "stream",
     "text": [
      "100%|██████████| 400/400 [00:10<00:00, 39.56it/s]"
     ]
    },
    {
     "name": "stdout",
     "output_type": "stream",
     "text": [
      "801\n"
     ]
    },
    {
     "name": "stderr",
     "output_type": "stream",
     "text": [
      "\n"
     ]
    }
   ],
   "source": [
    "gen_motion_indices = inp[:,:1]\n",
    "while gen_motion_indices.shape[1]<=800:\n",
    "        gen_motion_indices = trans_model.generate(start_tokens =gen_motion_indices.cuda(),\\\n",
    "                                              seq_len=400 , \\\n",
    "                                              context = torch.Tensor(music_encoding)[None,...].cuda(), \\\n",
    "                                            context_mask=torch.ones((1 ,music_encoding.shape[0]) , dtype = torch.bool).cuda()\n",
    "                                              )\n",
    "        gen_motion_indices = gen_motion_indices[gen_motion_indices<1024][None,...]\n",
    "        print(gen_motion_indices.shape[1])"
   ]
  },
  {
   "cell_type": "code",
   "execution_count": 181,
   "id": "2310e07e",
   "metadata": {},
   "outputs": [],
   "source": [
    "gen_motion_indices = gen_motion_indices[gen_motion_indices<1024][None,...]"
   ]
  },
  {
   "cell_type": "code",
   "execution_count": 182,
   "id": "9eb2f977",
   "metadata": {},
   "outputs": [
    {
     "data": {
      "text/plain": [
       "torch.Size([1, 801])"
      ]
     },
     "execution_count": 182,
     "metadata": {},
     "output_type": "execute_result"
    }
   ],
   "source": [
    "gen_motion_indices.shape"
   ]
  },
  {
   "cell_type": "code",
   "execution_count": 98,
   "id": "bface98e",
   "metadata": {},
   "outputs": [
    {
     "data": {
      "text/plain": [
       "torch.Size([1, 1])"
      ]
     },
     "execution_count": 98,
     "metadata": {},
     "output_type": "execute_result"
    }
   ],
   "source": [
    "inp[:,:1]"
   ]
  },
  {
   "cell_type": "code",
   "execution_count": 103,
   "id": "6b4f741f",
   "metadata": {},
   "outputs": [
    {
     "data": {
      "text/plain": [
       "tensor([[958]])"
      ]
     },
     "execution_count": 103,
     "metadata": {},
     "output_type": "execute_result"
    }
   ],
   "source": [
    "torch.randint(0 , 1024 , (1,1))"
   ]
  },
  {
   "cell_type": "code",
   "execution_count": 184,
   "id": "bf6c2f82",
   "metadata": {},
   "outputs": [
    {
     "data": {
      "text/plain": [
       "'mWA0.npy'"
      ]
     },
     "execution_count": 184,
     "metadata": {},
     "output_type": "execute_result"
    }
   ],
   "source": [
    "os.path.basename(musics[0])"
   ]
  },
  {
   "cell_type": "code",
   "execution_count": 183,
   "id": "f429ba22",
   "metadata": {},
   "outputs": [
    {
     "name": "stdout",
     "output_type": "stream",
     "text": [
      "render start\n"
     ]
    }
   ],
   "source": [
    "quant , out_motion = vqvae_model.decode(gen_motion_indices.cuda())\n",
    "# np.save(os.path.join(save_pth , music_name+\".npy\" ,) , out_motion.cpu().numpy())\n",
    "\n",
    "sample_render(to_xyz(out_motion[0:1].detach().cpu(),mean = train_ds.mean , std = train_ds.std), name = music_name+\"_full\" , save_path = \"/srv/scratch/sanisetty3/music_motion/motion_vqvae/evals\")\n"
   ]
  },
  {
   "cell_type": "code",
   "execution_count": null,
   "id": "bec08274",
   "metadata": {},
   "outputs": [],
   "source": []
  },
  {
   "cell_type": "code",
   "execution_count": null,
   "id": "2ee40c7c",
   "metadata": {},
   "outputs": [],
   "source": []
  },
  {
   "cell_type": "code",
   "execution_count": null,
   "id": "97d0ff8f",
   "metadata": {},
   "outputs": [],
   "source": []
  },
  {
   "cell_type": "code",
   "execution_count": null,
   "id": "97cdd484",
   "metadata": {},
   "outputs": [],
   "source": []
  },
  {
   "cell_type": "code",
   "execution_count": null,
   "id": "1b8ef7d9",
   "metadata": {},
   "outputs": [],
   "source": [
    "sample_render(to_xyz(out_motion[0:1].detach().cpu(),mean = train_ds.mean , std = train_ds.std), name = music_name+\"_full\" , save_path = \"/srv/scratch/sanisetty3/music_motion/motion_vqvae/evals\")\n"
   ]
  },
  {
   "cell_type": "code",
   "execution_count": null,
   "id": "66d0b19b",
   "metadata": {},
   "outputs": [],
   "source": []
  },
  {
   "cell_type": "markdown",
   "id": "b56ff54c",
   "metadata": {},
   "source": [
    "## Generate 20s and save gen + gt"
   ]
  },
  {
   "cell_type": "code",
   "execution_count": 4,
   "id": "1a94e1d6",
   "metadata": {},
   "outputs": [],
   "source": [
    "gt_path = \"/srv/scratch/sanisetty3/music_motion/AIST/joint_indices_max_400/*\""
   ]
  },
  {
   "cell_type": "code",
   "execution_count": 5,
   "id": "733929f5",
   "metadata": {},
   "outputs": [],
   "source": [
    "gts = glob(gt_path)"
   ]
  },
  {
   "cell_type": "code",
   "execution_count": 6,
   "id": "df27250d",
   "metadata": {},
   "outputs": [
    {
     "data": {
      "text/plain": [
       "'/srv/scratch/sanisetty3/music_motion/AIST/joint_indices_max_400/gBR_sFM_cAll_d06_mBR4_ch20.npy'"
      ]
     },
     "execution_count": 6,
     "metadata": {},
     "output_type": "execute_result"
    }
   ],
   "source": [
    "gts[0]"
   ]
  },
  {
   "cell_type": "code",
   "execution_count": 7,
   "id": "61b242fe",
   "metadata": {},
   "outputs": [
    {
     "data": {
      "text/plain": [
       "'mBR4'"
      ]
     },
     "execution_count": 7,
     "metadata": {},
     "output_type": "execute_result"
    }
   ],
   "source": [
    "os.path.basename(gts[0]).split(\".\")[0].split('_')[-2]"
   ]
  },
  {
   "cell_type": "code",
   "execution_count": 8,
   "id": "51bcdf2f",
   "metadata": {},
   "outputs": [],
   "source": [
    "from itertools import groupby\n",
    "\n",
    "a = gts\n",
    "\n",
    "def get_domain(path):\n",
    "    # Example: 'www.google.com' -> 'google.com'\n",
    "    return '.'.join(os.path.basename(path).split(\".\")[0].split('_')[-2])\n",
    "\n",
    "def choose_item(iterable):\n",
    "    # Ex. input: ['www.google.com', 'google.com',  'www.google.com']\n",
    "    # Ex. output: 'www.google.com' (longest string)\n",
    "    return sorted(iterable, key=lambda x: -len(x))[0]\n",
    "\n",
    "results = []\n",
    "for domain,grp in groupby(sorted(a, key=get_domain), key=get_domain):\n",
    "    results.append(choose_item(grp))\n"
   ]
  },
  {
   "cell_type": "code",
   "execution_count": 9,
   "id": "ce04206e",
   "metadata": {},
   "outputs": [
    {
     "data": {
      "text/plain": [
       "60"
      ]
     },
     "execution_count": 9,
     "metadata": {},
     "output_type": "execute_result"
    }
   ],
   "source": [
    "gt_motion_indices_path = results\n",
    "len(gt_motion_indices_path)"
   ]
  },
  {
   "cell_type": "code",
   "execution_count": 106,
   "id": "22516f8b",
   "metadata": {},
   "outputs": [],
   "source": [
    "# gt_motion_indices_path"
   ]
  },
  {
   "cell_type": "code",
   "execution_count": 10,
   "id": "b0d96a98",
   "metadata": {},
   "outputs": [],
   "source": [
    "def get_motion(music):\n",
    "    for i in gt_motion_indices_path:\n",
    "        if os.path.basename(i).split(\".\")[0].split('_')[-2] == music:\n",
    "            return i"
   ]
  },
  {
   "cell_type": "code",
   "execution_count": 87,
   "id": "741905b8",
   "metadata": {},
   "outputs": [],
   "source": [
    "import plotly\n",
    "import plotly.express as px\n",
    "import numpy as np\n",
    "from sklearn.manifold import TSNE\n",
    "import seaborn as sns\n",
    "genre_dict = {\n",
    "    \"mBR\" : \"Break\",\n",
    "    \"mPO\" : \"Pop\",\n",
    "    \"mLO\" : \"Lock\",\n",
    "    \"mMH\" : \"Middle Hip-hop\",\n",
    "    \"mLH\" : \"LA style Hip-hop\",\n",
    "    \"mHO\" : \"House\",    \n",
    "    \"mWA\" : \"Waack\",\n",
    "    \"mKR\" : \"Krump\",\n",
    "    \"mJS\" : \"Street Jazz\",\n",
    "    \"mJB\" : \"Ballet Jazz\",\n",
    "}"
   ]
  },
  {
   "cell_type": "code",
   "execution_count": 88,
   "id": "6a0be081",
   "metadata": {},
   "outputs": [],
   "source": [
    "motions = []\n",
    "musics = []\n",
    "min_len = 1000\n",
    "for i in gt_motion_indices_path:\n",
    "    motion = (np.load(os.path.join(\"/srv/scratch/sanisetty3/music_motion/AIST/new_joint_vecs\",os.path.basename(i))))\n",
    "    if motion.shape[0] < min_len:\n",
    "        min_len = motion.shape[0]\n",
    "        \n",
    "    musics.append(genre_dict[os.path.basename(i).split(\".\")[0].split('_')[-2][:3]])\n",
    "    \n",
    "    motions.append(motion[:141,:])\n",
    "    "
   ]
  },
  {
   "cell_type": "code",
   "execution_count": 89,
   "id": "c84a6c2f",
   "metadata": {},
   "outputs": [],
   "source": [
    "motions = np.stack(motions)"
   ]
  },
  {
   "cell_type": "code",
   "execution_count": 90,
   "id": "fe24162c",
   "metadata": {},
   "outputs": [
    {
     "name": "stderr",
     "output_type": "stream",
     "text": [
      "/srv/share2/sanisetty3/miniconda3/envs/ai-choreo/lib/python3.7/site-packages/sklearn/manifold/_t_sne.py:783: FutureWarning: The default initialization in TSNE will change from 'random' to 'pca' in 1.2.\n",
      "  FutureWarning,\n"
     ]
    }
   ],
   "source": [
    "X_embedded = TSNE(n_components=2, learning_rate='auto' , n_iter = 10000).fit_transform(motions.reshape(len(motions),-1))\n"
   ]
  },
  {
   "cell_type": "code",
   "execution_count": 91,
   "id": "18a51bb3",
   "metadata": {},
   "outputs": [
    {
     "data": {
      "image/png": "[encoded data removed]",
      "text/plain": [
       "<Figure size 864x864 with 1 Axes>"
      ]
     },
     "metadata": {
      "needs_background": "light"
     },
     "output_type": "display_data"
    }
   ],
   "source": [
    "plt.figure(figsize = (12,12))\n",
    "g1 = sns.scatterplot(x = X_embedded[:,0], y = X_embedded[:,1], hue = musics, palette = \"bright\" , legend = True)\n",
    "g1.set(title='Ground Truth Motions')\n",
    "g1.set(xticklabels=[])\n",
    "g1.set(xlabel=None)\n",
    "g1.set(yticklabels=[])\n",
    "g1.set(ylabel=None)\n",
    "plt.legend( frameon=False)\n",
    "plt.tick_params(bottom=False , left = False) \n",
    "plt.show()"
   ]
  },
  {
   "cell_type": "code",
   "execution_count": null,
   "id": "2cfe6a96",
   "metadata": {},
   "outputs": [],
   "source": []
  },
  {
   "cell_type": "code",
   "execution_count": 92,
   "id": "58fe9264",
   "metadata": {},
   "outputs": [],
   "source": [
    "motions_list = glob(\"/srv/scratch/sanisetty3/music_motion/motion_vqvae/evals/generator/var_len/trans_768_768_albi_aist/*.npy\")"
   ]
  },
  {
   "cell_type": "code",
   "execution_count": 93,
   "id": "5e34154d",
   "metadata": {},
   "outputs": [
    {
     "data": {
      "text/plain": [
       "'/srv/scratch/sanisetty3/music_motion/motion_vqvae/evals/generator/var_len/trans_768_768_albi_aist/mWA3.npy'"
      ]
     },
     "execution_count": 93,
     "metadata": {},
     "output_type": "execute_result"
    }
   ],
   "source": [
    "motions_list[0]"
   ]
  },
  {
   "cell_type": "code",
   "execution_count": 113,
   "id": "f09fbb8e",
   "metadata": {},
   "outputs": [],
   "source": [
    "name =os.path.basename( motions_list[2]).split(\".\")[0]\n",
    "motion = np.load(motions_list[0])"
   ]
  },
  {
   "cell_type": "code",
   "execution_count": 119,
   "id": "0486fdfa",
   "metadata": {},
   "outputs": [
    {
     "data": {
      "text/plain": [
       "'mHO4'"
      ]
     },
     "execution_count": 119,
     "metadata": {},
     "output_type": "execute_result"
    }
   ],
   "source": [
    "name"
   ]
  },
  {
   "cell_type": "code",
   "execution_count": 114,
   "id": "0f020666",
   "metadata": {},
   "outputs": [],
   "source": [
    "motion_xyz = to_xyz(torch.Tensor(motion) , mean=train_ds.mean , std = train_ds.std)"
   ]
  },
  {
   "cell_type": "code",
   "execution_count": 120,
   "id": "46119dcb",
   "metadata": {},
   "outputs": [],
   "source": [
    "np.save(f\"/srv/scratch/sanisetty3/music_motion/motion_vqvae/evals/{name}.npy\" , motion_xyz[0])"
   ]
  },
  {
   "cell_type": "code",
   "execution_count": 94,
   "id": "5752ba85",
   "metadata": {},
   "outputs": [],
   "source": [
    "motions2 = []\n",
    "musics2 = []\n",
    "min_len2 = 1000\n",
    "for i in gt_motion_indices_path:\n",
    "    music_name = os.path.basename(i).split(\".\")[0].split('_')[-2]\n",
    "    motion = (np.load(f\"/srv/scratch/sanisetty3/music_motion/motion_vqvae/evals/generator/var_len/trans_768_768_albi_aist/{music_name}.npy\"))[0]\n",
    "#     print(motion.shape)\n",
    "    if motion.shape[0] < min_len2:\n",
    "        min_len2 = motion.shape[0]\n",
    "        \n",
    "    musics2.append(genre_dict[music_name[:3]])\n",
    "    \n",
    "    motions2.append(motion[:141,:])\n",
    "motions2 = np.stack(motions)"
   ]
  },
  {
   "cell_type": "code",
   "execution_count": 95,
   "id": "ac70691e",
   "metadata": {},
   "outputs": [
    {
     "data": {
      "text/plain": [
       "(60, 141, 263)"
      ]
     },
     "execution_count": 95,
     "metadata": {},
     "output_type": "execute_result"
    }
   ],
   "source": [
    "motions.shape"
   ]
  },
  {
   "cell_type": "code",
   "execution_count": 104,
   "id": "2ed3215d",
   "metadata": {},
   "outputs": [
    {
     "name": "stderr",
     "output_type": "stream",
     "text": [
      "/srv/share2/sanisetty3/miniconda3/envs/ai-choreo/lib/python3.7/site-packages/sklearn/manifold/_t_sne.py:783: FutureWarning: The default initialization in TSNE will change from 'random' to 'pca' in 1.2.\n",
      "  FutureWarning,\n"
     ]
    }
   ],
   "source": [
    "X_embedded = TSNE(n_components=2, learning_rate='auto' , n_iter = 10000).fit_transform(motions.reshape(len(motions),-1))\n"
   ]
  },
  {
   "cell_type": "code",
   "execution_count": 105,
   "id": "7bfc3635",
   "metadata": {},
   "outputs": [
    {
     "data": {
      "image/png": "[encoded data removed]",
      "text/plain": [
       "<Figure size 864x864 with 1 Axes>"
      ]
     },
     "metadata": {
      "needs_background": "light"
     },
     "output_type": "display_data"
    }
   ],
   "source": [
    "plt.figure(figsize = (12,12))\n",
    "g1 = sns.scatterplot(x = X_embedded[:,0], y = X_embedded[:,1], hue = musics, palette = \"bright\" , legend = True)\n",
    "g1.set(title='Generated Motions')\n",
    "g1.set(xticklabels=[])\n",
    "g1.set(xlabel=None)\n",
    "g1.set(yticklabels=[])\n",
    "g1.set(ylabel=None)\n",
    "plt.legend( frameon=False)\n",
    "plt.tick_params(bottom=False , left = False) \n",
    "plt.show()"
   ]
  },
  {
   "cell_type": "code",
   "execution_count": null,
   "id": "87d13dbf",
   "metadata": {},
   "outputs": [],
   "source": []
  },
  {
   "cell_type": "code",
   "execution_count": null,
   "id": "236c8ba2",
   "metadata": {},
   "outputs": [],
   "source": []
  },
  {
   "cell_type": "code",
   "execution_count": null,
   "id": "016e1ed4",
   "metadata": {},
   "outputs": [],
   "source": []
  },
  {
   "cell_type": "code",
   "execution_count": null,
   "id": "a9cf0802",
   "metadata": {},
   "outputs": [],
   "source": []
  },
  {
   "cell_type": "code",
   "execution_count": 147,
   "id": "397d3fa2",
   "metadata": {},
   "outputs": [],
   "source": [
    "save_pth = \"/srv/scratch/sanisetty3/music_motion/motion_vqvae/evals/generator/var_len/trans_768_768_albi_aist/\""
   ]
  },
  {
   "cell_type": "code",
   "execution_count": 154,
   "id": "a3f50aa5",
   "metadata": {
    "scrolled": true
   },
   "outputs": [
    {
     "name": "stdout",
     "output_type": "stream",
     "text": [
      "mWA0\n"
     ]
    },
    {
     "name": "stderr",
     "output_type": "stream",
     "text": [
      "100%|██████████| 400/400 [00:08<00:00, 44.88it/s]\n"
     ]
    },
    {
     "name": "stdout",
     "output_type": "stream",
     "text": [
      "401\n",
      "render start\n",
      "render start\n",
      "mHO0\n"
     ]
    },
    {
     "name": "stderr",
     "output_type": "stream",
     "text": [
      "100%|██████████| 400/400 [00:08<00:00, 44.96it/s]\n"
     ]
    },
    {
     "name": "stdout",
     "output_type": "stream",
     "text": [
      "401\n",
      "render start\n",
      "render start\n",
      "mJB0\n"
     ]
    },
    {
     "name": "stderr",
     "output_type": "stream",
     "text": [
      "100%|██████████| 400/400 [00:08<00:00, 44.89it/s]\n"
     ]
    },
    {
     "name": "stdout",
     "output_type": "stream",
     "text": [
      "401\n",
      "render start\n",
      "render start\n",
      "mMH0\n"
     ]
    },
    {
     "name": "stderr",
     "output_type": "stream",
     "text": [
      "100%|██████████| 400/400 [00:08<00:00, 44.95it/s]\n"
     ]
    },
    {
     "name": "stdout",
     "output_type": "stream",
     "text": [
      "401\n",
      "render start\n",
      "render start\n",
      "mPO0\n"
     ]
    },
    {
     "name": "stderr",
     "output_type": "stream",
     "text": [
      "100%|██████████| 400/400 [00:08<00:00, 44.88it/s]\n"
     ]
    },
    {
     "name": "stdout",
     "output_type": "stream",
     "text": [
      "401\n",
      "render start\n",
      "render start\n",
      "mJS0\n"
     ]
    },
    {
     "name": "stderr",
     "output_type": "stream",
     "text": [
      "100%|██████████| 400/400 [00:08<00:00, 44.90it/s]\n"
     ]
    },
    {
     "name": "stdout",
     "output_type": "stream",
     "text": [
      "401\n",
      "render start\n",
      "render start\n",
      "mBR3\n"
     ]
    },
    {
     "name": "stderr",
     "output_type": "stream",
     "text": [
      "100%|██████████| 400/400 [00:08<00:00, 44.92it/s]\n"
     ]
    },
    {
     "name": "stdout",
     "output_type": "stream",
     "text": [
      "401\n",
      "render start\n",
      "render start\n",
      "mBR4\n"
     ]
    },
    {
     "name": "stderr",
     "output_type": "stream",
     "text": [
      "100%|██████████| 400/400 [00:08<00:00, 44.91it/s]\n"
     ]
    },
    {
     "name": "stdout",
     "output_type": "stream",
     "text": [
      "401\n",
      "render start\n",
      "render start\n",
      "mLH0\n"
     ]
    },
    {
     "name": "stderr",
     "output_type": "stream",
     "text": [
      "100%|██████████| 400/400 [00:08<00:00, 44.88it/s]\n"
     ]
    },
    {
     "name": "stdout",
     "output_type": "stream",
     "text": [
      "401\n",
      "render start\n",
      "render start\n",
      "mLO2\n"
     ]
    },
    {
     "name": "stderr",
     "output_type": "stream",
     "text": [
      "100%|██████████| 400/400 [00:08<00:00, 44.94it/s]\n"
     ]
    },
    {
     "name": "stdout",
     "output_type": "stream",
     "text": [
      "401\n",
      "render start\n",
      "render start\n",
      "mKR1\n"
     ]
    },
    {
     "name": "stderr",
     "output_type": "stream",
     "text": [
      "100%|██████████| 400/400 [00:08<00:00, 44.90it/s]\n"
     ]
    },
    {
     "name": "stdout",
     "output_type": "stream",
     "text": [
      "401\n",
      "render start\n",
      "render start\n",
      "mLO5\n"
     ]
    },
    {
     "name": "stderr",
     "output_type": "stream",
     "text": [
      "100%|██████████| 400/400 [00:08<00:00, 44.63it/s]\n"
     ]
    },
    {
     "name": "stdout",
     "output_type": "stream",
     "text": [
      "401\n",
      "render start\n",
      "render start\n",
      "mMH1\n"
     ]
    },
    {
     "name": "stderr",
     "output_type": "stream",
     "text": [
      "100%|██████████| 400/400 [00:08<00:00, 44.93it/s]\n"
     ]
    },
    {
     "name": "stdout",
     "output_type": "stream",
     "text": [
      "401\n",
      "render start\n",
      "render start\n",
      "mPO1\n"
     ]
    },
    {
     "name": "stderr",
     "output_type": "stream",
     "text": [
      "100%|██████████| 400/400 [00:08<00:00, 44.88it/s]\n"
     ]
    },
    {
     "name": "stdout",
     "output_type": "stream",
     "text": [
      "401\n",
      "render start\n",
      "render start\n",
      "mJB1\n"
     ]
    },
    {
     "name": "stderr",
     "output_type": "stream",
     "text": [
      "100%|██████████| 400/400 [00:09<00:00, 42.15it/s]\n"
     ]
    },
    {
     "name": "stdout",
     "output_type": "stream",
     "text": [
      "401\n",
      "render start\n",
      "render start\n",
      "mHO1\n"
     ]
    },
    {
     "name": "stderr",
     "output_type": "stream",
     "text": [
      "100%|██████████| 400/400 [00:08<00:00, 44.85it/s]\n"
     ]
    },
    {
     "name": "stdout",
     "output_type": "stream",
     "text": [
      "401\n",
      "render start\n",
      "render start\n",
      "mWA1\n"
     ]
    },
    {
     "name": "stderr",
     "output_type": "stream",
     "text": [
      "100%|██████████| 400/400 [00:08<00:00, 45.02it/s]\n"
     ]
    },
    {
     "name": "stdout",
     "output_type": "stream",
     "text": [
      "401\n",
      "render start\n",
      "render start\n",
      "mKR0\n"
     ]
    },
    {
     "name": "stderr",
     "output_type": "stream",
     "text": [
      "100%|██████████| 400/400 [00:08<00:00, 45.10it/s]\n"
     ]
    },
    {
     "name": "stdout",
     "output_type": "stream",
     "text": [
      "401\n",
      "render start\n",
      "render start\n",
      "mLO4\n"
     ]
    },
    {
     "name": "stderr",
     "output_type": "stream",
     "text": [
      "100%|██████████| 400/400 [00:08<00:00, 45.00it/s]\n"
     ]
    },
    {
     "name": "stdout",
     "output_type": "stream",
     "text": [
      "401\n",
      "render start\n",
      "render start\n",
      "mLO3\n"
     ]
    },
    {
     "name": "stderr",
     "output_type": "stream",
     "text": [
      "100%|██████████| 400/400 [00:08<00:00, 44.94it/s]\n"
     ]
    },
    {
     "name": "stdout",
     "output_type": "stream",
     "text": [
      "401\n",
      "render start\n",
      "render start\n",
      "mLH1\n"
     ]
    },
    {
     "name": "stderr",
     "output_type": "stream",
     "text": [
      "100%|██████████| 400/400 [00:08<00:00, 44.94it/s]\n"
     ]
    },
    {
     "name": "stdout",
     "output_type": "stream",
     "text": [
      "401\n",
      "render start\n",
      "render start\n",
      "mBR5\n"
     ]
    },
    {
     "name": "stderr",
     "output_type": "stream",
     "text": [
      "100%|██████████| 400/400 [00:08<00:00, 45.49it/s]\n"
     ]
    },
    {
     "name": "stdout",
     "output_type": "stream",
     "text": [
      "401\n",
      "render start\n",
      "render start\n",
      "mJS1\n"
     ]
    },
    {
     "name": "stderr",
     "output_type": "stream",
     "text": [
      "100%|██████████| 400/400 [00:08<00:00, 45.05it/s]\n"
     ]
    },
    {
     "name": "stdout",
     "output_type": "stream",
     "text": [
      "401\n",
      "render start\n",
      "render start\n",
      "mBR2\n"
     ]
    },
    {
     "name": "stderr",
     "output_type": "stream",
     "text": [
      "100%|██████████| 400/400 [00:08<00:00, 45.05it/s]\n"
     ]
    },
    {
     "name": "stdout",
     "output_type": "stream",
     "text": [
      "401\n",
      "render start\n",
      "render start\n",
      "mKR4\n"
     ]
    },
    {
     "name": "stderr",
     "output_type": "stream",
     "text": [
      "100%|██████████| 400/400 [00:08<00:00, 44.90it/s]\n"
     ]
    },
    {
     "name": "stdout",
     "output_type": "stream",
     "text": [
      "401\n",
      "render start\n",
      "render start\n",
      "mLO0\n"
     ]
    },
    {
     "name": "stderr",
     "output_type": "stream",
     "text": [
      "100%|██████████| 400/400 [00:08<00:00, 44.47it/s]\n"
     ]
    },
    {
     "name": "stdout",
     "output_type": "stream",
     "text": [
      "401\n",
      "render start\n",
      "render start\n",
      "mKR3\n"
     ]
    },
    {
     "name": "stderr",
     "output_type": "stream",
     "text": [
      "100%|██████████| 400/400 [01:05<00:00,  6.12it/s]\n"
     ]
    },
    {
     "name": "stdout",
     "output_type": "stream",
     "text": [
      "401\n",
      "render start\n",
      "render start\n",
      "mLH5\n"
     ]
    },
    {
     "name": "stderr",
     "output_type": "stream",
     "text": [
      "100%|██████████| 400/400 [01:06<00:00,  6.00it/s]\n"
     ]
    },
    {
     "name": "stdout",
     "output_type": "stream",
     "text": [
      "401\n",
      "render start\n",
      "render start\n",
      "mLH2\n"
     ]
    },
    {
     "name": "stderr",
     "output_type": "stream",
     "text": [
      "100%|██████████| 400/400 [01:05<00:00,  6.13it/s]\n"
     ]
    },
    {
     "name": "stdout",
     "output_type": "stream",
     "text": [
      "401\n",
      "render start\n",
      "render start\n",
      "mBR1\n"
     ]
    },
    {
     "name": "stderr",
     "output_type": "stream",
     "text": [
      "100%|██████████| 400/400 [01:05<00:00,  6.09it/s]\n"
     ]
    },
    {
     "name": "stdout",
     "output_type": "stream",
     "text": [
      "401\n",
      "render start\n",
      "render start\n",
      "mJS2\n"
     ]
    },
    {
     "name": "stderr",
     "output_type": "stream",
     "text": [
      "100%|██████████| 400/400 [01:05<00:00,  6.13it/s]\n"
     ]
    },
    {
     "name": "stdout",
     "output_type": "stream",
     "text": [
      "401\n",
      "render start\n",
      "render start\n",
      "mJS5\n"
     ]
    },
    {
     "name": "stderr",
     "output_type": "stream",
     "text": [
      "100%|██████████| 400/400 [01:05<00:00,  6.10it/s]\n"
     ]
    },
    {
     "name": "stdout",
     "output_type": "stream",
     "text": [
      "401\n",
      "render start\n",
      "render start\n",
      "mPO5\n"
     ]
    },
    {
     "name": "stderr",
     "output_type": "stream",
     "text": [
      "100%|██████████| 400/400 [01:05<00:00,  6.14it/s]\n"
     ]
    },
    {
     "name": "stdout",
     "output_type": "stream",
     "text": [
      "401\n",
      "render start\n",
      "render start\n",
      "mMH5\n"
     ]
    },
    {
     "name": "stderr",
     "output_type": "stream",
     "text": [
      "100%|██████████| 400/400 [01:05<00:00,  6.15it/s]\n"
     ]
    },
    {
     "name": "stdout",
     "output_type": "stream",
     "text": [
      "401\n",
      "render start\n",
      "render start\n",
      "mJB2\n"
     ]
    },
    {
     "name": "stderr",
     "output_type": "stream",
     "text": [
      "100%|██████████| 400/400 [00:26<00:00, 15.38it/s]\n"
     ]
    },
    {
     "name": "stdout",
     "output_type": "stream",
     "text": [
      "401\n",
      "render start\n",
      "render start\n",
      "mJB5\n"
     ]
    },
    {
     "name": "stderr",
     "output_type": "stream",
     "text": [
      "100%|██████████| 400/400 [00:14<00:00, 28.05it/s]\n"
     ]
    },
    {
     "name": "stdout",
     "output_type": "stream",
     "text": [
      "401\n",
      "render start\n",
      "render start\n",
      "mMH2\n"
     ]
    },
    {
     "name": "stderr",
     "output_type": "stream",
     "text": [
      "100%|██████████| 400/400 [00:08<00:00, 45.11it/s]\n"
     ]
    },
    {
     "name": "stdout",
     "output_type": "stream",
     "text": [
      "401\n",
      "render start\n",
      "render start\n",
      "mPO2\n"
     ]
    },
    {
     "name": "stderr",
     "output_type": "stream",
     "text": [
      "100%|██████████| 400/400 [00:08<00:00, 45.03it/s]\n"
     ]
    },
    {
     "name": "stdout",
     "output_type": "stream",
     "text": [
      "401\n",
      "render start\n",
      "render start\n",
      "mHO2\n"
     ]
    },
    {
     "name": "stderr",
     "output_type": "stream",
     "text": [
      "100%|██████████| 400/400 [00:08<00:00, 44.99it/s]\n"
     ]
    },
    {
     "name": "stdout",
     "output_type": "stream",
     "text": [
      "401\n",
      "render start\n",
      "render start\n",
      "mHO5\n"
     ]
    },
    {
     "name": "stderr",
     "output_type": "stream",
     "text": [
      "100%|██████████| 400/400 [00:08<00:00, 44.89it/s]\n"
     ]
    },
    {
     "name": "stdout",
     "output_type": "stream",
     "text": [
      "401\n",
      "render start\n",
      "render start\n",
      "mWA5\n"
     ]
    },
    {
     "name": "stderr",
     "output_type": "stream",
     "text": [
      "100%|██████████| 400/400 [00:08<00:00, 45.38it/s]\n"
     ]
    },
    {
     "name": "stdout",
     "output_type": "stream",
     "text": [
      "401\n",
      "render start\n",
      "render start\n",
      "mWA2\n"
     ]
    },
    {
     "name": "stderr",
     "output_type": "stream",
     "text": [
      "100%|██████████| 400/400 [00:08<00:00, 45.04it/s]\n"
     ]
    },
    {
     "name": "stdout",
     "output_type": "stream",
     "text": [
      "401\n",
      "render start\n",
      "render start\n",
      "mJS4\n"
     ]
    },
    {
     "name": "stderr",
     "output_type": "stream",
     "text": [
      "100%|██████████| 400/400 [00:08<00:00, 45.03it/s]\n"
     ]
    },
    {
     "name": "stdout",
     "output_type": "stream",
     "text": [
      "401\n",
      "render start\n",
      "render start\n",
      "mBR0\n"
     ]
    },
    {
     "name": "stderr",
     "output_type": "stream",
     "text": [
      "100%|██████████| 400/400 [00:09<00:00, 41.40it/s]\n"
     ]
    },
    {
     "name": "stdout",
     "output_type": "stream",
     "text": [
      "401\n",
      "render start\n",
      "render start\n",
      "mJS3\n"
     ]
    },
    {
     "name": "stderr",
     "output_type": "stream",
     "text": [
      "100%|██████████| 400/400 [00:08<00:00, 44.98it/s]\n"
     ]
    },
    {
     "name": "stdout",
     "output_type": "stream",
     "text": [
      "401\n",
      "render start\n",
      "render start\n",
      "mLH3\n"
     ]
    },
    {
     "name": "stderr",
     "output_type": "stream",
     "text": [
      "100%|██████████| 400/400 [00:09<00:00, 41.79it/s]\n"
     ]
    },
    {
     "name": "stdout",
     "output_type": "stream",
     "text": [
      "401\n",
      "render start\n",
      "render start\n",
      "mLH4\n"
     ]
    },
    {
     "name": "stderr",
     "output_type": "stream",
     "text": [
      "100%|██████████| 400/400 [00:08<00:00, 45.33it/s]\n"
     ]
    },
    {
     "name": "stdout",
     "output_type": "stream",
     "text": [
      "401\n",
      "render start\n",
      "render start\n",
      "mKR2\n"
     ]
    },
    {
     "name": "stderr",
     "output_type": "stream",
     "text": [
      "100%|██████████| 400/400 [00:14<00:00, 27.65it/s]\n"
     ]
    },
    {
     "name": "stdout",
     "output_type": "stream",
     "text": [
      "401\n",
      "render start\n",
      "render start\n",
      "mKR5\n"
     ]
    },
    {
     "name": "stderr",
     "output_type": "stream",
     "text": [
      "100%|██████████| 400/400 [00:14<00:00, 27.21it/s]\n"
     ]
    },
    {
     "name": "stdout",
     "output_type": "stream",
     "text": [
      "401\n",
      "render start\n",
      "render start\n",
      "mLO1\n"
     ]
    },
    {
     "name": "stderr",
     "output_type": "stream",
     "text": [
      "100%|██████████| 400/400 [00:14<00:00, 27.35it/s]\n"
     ]
    },
    {
     "name": "stdout",
     "output_type": "stream",
     "text": [
      "401\n",
      "render start\n",
      "render start\n",
      "mWA3\n"
     ]
    },
    {
     "name": "stderr",
     "output_type": "stream",
     "text": [
      "100%|██████████| 400/400 [00:14<00:00, 27.26it/s]\n"
     ]
    },
    {
     "name": "stdout",
     "output_type": "stream",
     "text": [
      "401\n",
      "render start\n",
      "render start\n",
      "mWA4\n"
     ]
    },
    {
     "name": "stderr",
     "output_type": "stream",
     "text": [
      "100%|██████████| 400/400 [00:08<00:00, 44.97it/s]\n"
     ]
    },
    {
     "name": "stdout",
     "output_type": "stream",
     "text": [
      "401\n",
      "render start\n",
      "render start\n",
      "mHO4\n"
     ]
    },
    {
     "name": "stderr",
     "output_type": "stream",
     "text": [
      "100%|██████████| 400/400 [00:08<00:00, 44.99it/s]\n"
     ]
    },
    {
     "name": "stdout",
     "output_type": "stream",
     "text": [
      "401\n",
      "render start\n",
      "render start\n",
      "mHO3\n"
     ]
    },
    {
     "name": "stderr",
     "output_type": "stream",
     "text": [
      "100%|██████████| 400/400 [00:08<00:00, 44.99it/s]\n"
     ]
    },
    {
     "name": "stdout",
     "output_type": "stream",
     "text": [
      "401\n",
      "render start\n",
      "render start\n",
      "mMH3\n"
     ]
    },
    {
     "name": "stderr",
     "output_type": "stream",
     "text": [
      "100%|██████████| 400/400 [00:08<00:00, 44.93it/s]\n"
     ]
    },
    {
     "name": "stdout",
     "output_type": "stream",
     "text": [
      "401\n",
      "render start\n",
      "render start\n",
      "mJB4\n"
     ]
    },
    {
     "name": "stderr",
     "output_type": "stream",
     "text": [
      "100%|██████████| 400/400 [00:08<00:00, 44.87it/s]\n"
     ]
    },
    {
     "name": "stdout",
     "output_type": "stream",
     "text": [
      "401\n",
      "render start\n",
      "render start\n",
      "mPO3\n"
     ]
    },
    {
     "name": "stderr",
     "output_type": "stream",
     "text": [
      "100%|██████████| 400/400 [00:08<00:00, 44.78it/s]\n"
     ]
    },
    {
     "name": "stdout",
     "output_type": "stream",
     "text": [
      "401\n",
      "render start\n",
      "render start\n",
      "mPO4\n"
     ]
    },
    {
     "name": "stderr",
     "output_type": "stream",
     "text": [
      "100%|██████████| 400/400 [00:08<00:00, 45.25it/s]\n"
     ]
    },
    {
     "name": "stdout",
     "output_type": "stream",
     "text": [
      "401\n",
      "render start\n",
      "render start\n",
      "mJB3\n"
     ]
    },
    {
     "name": "stderr",
     "output_type": "stream",
     "text": [
      "100%|██████████| 400/400 [00:08<00:00, 44.87it/s]\n"
     ]
    },
    {
     "name": "stdout",
     "output_type": "stream",
     "text": [
      "401\n",
      "render start\n",
      "render start\n",
      "mMH4\n"
     ]
    },
    {
     "name": "stderr",
     "output_type": "stream",
     "text": [
      "100%|██████████| 400/400 [00:08<00:00, 45.01it/s]\n"
     ]
    },
    {
     "name": "stdout",
     "output_type": "stream",
     "text": [
      "401\n",
      "render start\n",
      "render start\n"
     ]
    }
   ],
   "source": [
    "musics = glob(\"/srv/scratch/sanisetty3/music_motion/AIST/music/*\")\n",
    "for music_path in musics:\n",
    "    \n",
    "\n",
    "    # music_name = str(reg_batch[\"names\"]).split(\"_\")[-2]\n",
    "    music_encoding=  np.load(os.path.join(music_path))\n",
    "    music_name = os.path.basename(music_path).split(\".\")[0]\n",
    "    print(music_name)\n",
    "    motion_indices_path = get_motion(music_name)\n",
    "    gt_motion_indices = torch.LongTensor(np.load(motion_indices_path))[None,...]\n",
    "    gen_motion_indices = inp[:,:1]\n",
    "    while gen_motion_indices.shape[1]<=400:\n",
    "        gen_motion_indices = trans_model.generate(start_tokens =gen_motion_indices.cuda(),\\\n",
    "                                              seq_len=400 , \\\n",
    "                                              context = torch.Tensor(music_encoding)[None,...].cuda(), \\\n",
    "                                            context_mask=torch.ones((1 ,music_encoding.shape[0]) , dtype = torch.bool).cuda()\n",
    "                                              )\n",
    "        gen_motion_indices = gen_motion_indices[gen_motion_indices<1024][None,...]\n",
    "        print(gen_motion_indices.shape[1])\n",
    "        \n",
    "    \n",
    "    quant , out_motion = vqvae_model.decode(gen_motion_indices.cuda())\n",
    "    np.save(os.path.join(save_pth , music_name+\".npy\" ,) , out_motion.cpu().numpy())\n",
    "\n",
    "    sample_render(to_xyz(out_motion[0:1].detach().cpu(),mean = train_ds.mean , std = train_ds.std), name = music_name+\"\" , save_path = save_pth)\n",
    "    \n",
    "    quant , out_motion = vqvae_model.decode(gt_motion_indices.cuda())\n",
    "    sample_render(to_xyz(out_motion[0:1].detach().cpu(),mean = train_ds.mean , std = train_ds.std), name = music_name+\"_gt\" , save_path = save_pth)\n",
    "    \n",
    "    gt_motion_indices"
   ]
  },
  {
   "cell_type": "code",
   "execution_count": null,
   "id": "f85ef9ee",
   "metadata": {},
   "outputs": [],
   "source": []
  },
  {
   "cell_type": "code",
   "execution_count": 35,
   "id": "4815252b",
   "metadata": {},
   "outputs": [],
   "source": [
    "processed_gen_output = process_gen_output(gen_motion_indices[0] , 400)"
   ]
  },
  {
   "cell_type": "code",
   "execution_count": 36,
   "id": "cf320f18",
   "metadata": {},
   "outputs": [
    {
     "data": {
      "text/plain": [
       "torch.Size([119])"
      ]
     },
     "execution_count": 36,
     "metadata": {},
     "output_type": "execute_result"
    }
   ],
   "source": [
    "processed_gen_output.shape"
   ]
  },
  {
   "cell_type": "code",
   "execution_count": 114,
   "id": "a49d4078",
   "metadata": {
    "scrolled": true
   },
   "outputs": [
    {
     "name": "stdout",
     "output_type": "stream",
     "text": [
      "render start\n"
     ]
    }
   ],
   "source": [
    "quant , out_motion = vqvae_model.decode(gen_motion_indices.cuda())\n",
    "sample_render(to_xyz(out_motion[0:1].detach().cpu(),mean = train_ds.mean , std = train_ds.std), \"rnd_motion\" , \"/srv/scratch/sanisetty3/music_motion/motion_vqvae/evals/decode_test\")"
   ]
  },
  {
   "cell_type": "markdown",
   "id": "7aa2223b",
   "metadata": {},
   "source": [
    "## Genre specific FID"
   ]
  },
  {
   "cell_type": "code",
   "execution_count": null,
   "id": "28626c5e",
   "metadata": {},
   "outputs": [],
   "source": [
    "Need to group motion "
   ]
  },
  {
   "cell_type": "code",
   "execution_count": null,
   "id": "12a67e76",
   "metadata": {},
   "outputs": [],
   "source": []
  },
  {
   "cell_type": "code",
   "execution_count": null,
   "id": "32766cbd",
   "metadata": {},
   "outputs": [],
   "source": []
  },
  {
   "cell_type": "code",
   "execution_count": null,
   "id": "5c0caa07",
   "metadata": {},
   "outputs": [],
   "source": []
  }
 ],
 "metadata": {
  "kernelspec": {
   "display_name": "Python 3",
   "language": "python",
   "name": "python3"
  },
  "language_info": {
   "codemirror_mode": {
    "name": "ipython",
    "version": 3
   },
   "file_extension": ".py",
   "mimetype": "text/x-python",
   "name": "python",
   "nbconvert_exporter": "python",
   "pygments_lexer": "ipython3",
   "version": "3.7.11"
  }
 },
 "nbformat": 4,
 "nbformat_minor": 5
}
