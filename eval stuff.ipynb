{
 "cells": [
  {
   "cell_type": "code",
   "execution_count": 1,
   "id": "1f932e71",
   "metadata": {},
   "outputs": [
    {
     "name": "stdout",
     "output_type": "stream",
     "text": [
      "Using device: cuda\n",
      "\n",
      "GeForce RTX 2080 Ti\n",
      "Memory Usage:\n",
      "Allocated: 0.0 GB\n",
      "Cached:    0.0 GB\n"
     ]
    }
   ],
   "source": [
    "# setting device on GPU if available, else CPU\n",
    "import torch\n",
    "device = torch.device('cuda' if torch.cuda.is_available() else 'cpu')\n",
    "print('Using device:', device)\n",
    "print()\n",
    "\n",
    "#Additional Info when using cuda\n",
    "if device.type == 'cuda':\n",
    "    print(torch.cuda.get_device_name(0))\n",
    "    print('Memory Usage:')\n",
    "    print('Allocated:', round(torch.cuda.memory_allocated(0)/1024**3,1), 'GB')\n",
    "    print('Cached:   ', round(torch.cuda.memory_reserved(0)/1024**3,1), 'GB')\n"
   ]
  },
  {
   "cell_type": "code",
   "execution_count": 2,
   "id": "96914084",
   "metadata": {},
   "outputs": [],
   "source": [
    "%load_ext autoreload\n",
    "%autoreload 2\n",
    "%matplotlib inline"
   ]
  },
  {
   "cell_type": "code",
   "execution_count": 3,
   "id": "02dd4a79",
   "metadata": {},
   "outputs": [],
   "source": [
    "import wandb\n",
    "\n",
    "import torch\n",
    "import torch.nn.functional as F\n",
    "import torch.nn as nn\n",
    "from torch.utils.data import DataLoader\n",
    "\n",
    "from torch.utils import data\n",
    "\n",
    "\n",
    "import copy\n",
    "import os\n",
    "import random\n",
    "import cv2\n",
    "import numpy as np\n",
    "from PIL import Image\n",
    "import pandas as pd\n",
    "import matplotlib.pyplot as plt\n",
    "from glob import glob\n",
    "import functools\n",
    "from tqdm import tqdm\n",
    "from datetime import datetime\n",
    "import numpy as np\n",
    "from core.datasets.vqa_motion_dataset import VQMotionDataset,DATALoader,VQVarLenMotionDataset,MotionCollator,VQFullMotionDataset\n",
    "from einops import rearrange, reduce, pack, unpack\n",
    "import librosa"
   ]
  },
  {
   "cell_type": "code",
   "execution_count": null,
   "id": "c0363706",
   "metadata": {},
   "outputs": [],
   "source": []
  },
  {
   "cell_type": "markdown",
   "id": "00b1afdb",
   "metadata": {},
   "source": [
    "## Our method"
   ]
  },
  {
   "cell_type": "code",
   "execution_count": 4,
   "id": "a8995ab1",
   "metadata": {},
   "outputs": [],
   "source": [
    "from utils.motion_process import recover_from_ric\n",
    "import visualize.plot_3d_global as plot_3d\n",
    "from glob import glob\n",
    "def to_xyz(motion, mean ,std , j = 22):\n",
    "    motion_xyz = recover_from_ric(motion.cpu().float()*std+mean, j)\n",
    "    motion_xyz = motion_xyz.reshape(motion.shape[0],-1, j, 3)\n",
    "    return motion_xyz\n",
    "\n",
    "            \n",
    "def sample_render(motion_xyz , name , save_path):\n",
    "    print(f\"render start\")\n",
    "    \n",
    "    gt_pose_vis = plot_3d.draw_to_batch(motion_xyz.numpy(),None, [os.path.join(save_path,name + \".gif\")])\n",
    "\n"
   ]
  },
  {
   "cell_type": "code",
   "execution_count": 5,
   "id": "517f53e4",
   "metadata": {},
   "outputs": [],
   "source": [
    "from configs.config import cfg, get_cfg_defaults\n",
    "from core.models.vqvae import VQMotionModel\n",
    "from core.models.motion_regressor import MotionRegressorModel\n",
    "\n",
    "cfg_vq = get_cfg_defaults()\n",
    "cfg_vq.merge_from_file(\"/srv/scratch/sanisetty3/music_motion/motion_vqvae/configs/var_len_768_768_aist_vq.yaml\")\n",
    "\n",
    "\n",
    "cfg_trans = get_cfg_defaults()\n",
    "cfg_trans.merge_from_file(\"/srv/scratch/sanisetty3/music_motion/motion_vqvae/configs/var_len_768_768_aist.yaml\")\n",
    "\n"
   ]
  },
  {
   "cell_type": "code",
   "execution_count": 6,
   "id": "0ff2f63e",
   "metadata": {},
   "outputs": [
    {
     "name": "stdout",
     "output_type": "stream",
     "text": [
      "tensor([295000.])\n"
     ]
    }
   ],
   "source": [
    "vqvae_model = VQMotionModel(cfg_vq.vqvae).eval()\n",
    "pkg = torch.load(f\"/srv/scratch/sanisetty3/music_motion/motion_vqvae/checkpoints/var_len/vq_768_768_mix/vqvae_motion_best_fid.pt\", map_location = 'cpu')\n",
    "print(pkg[\"steps\"])\n",
    "vqvae_model.load_state_dict(pkg[\"model\"])\n",
    "vqvae_model =vqvae_model.cuda()\n"
   ]
  },
  {
   "cell_type": "code",
   "execution_count": 7,
   "id": "c3a15192",
   "metadata": {},
   "outputs": [
    {
     "name": "stdout",
     "output_type": "stream",
     "text": [
      "tensor([195000.])\n"
     ]
    }
   ],
   "source": [
    "trans_model = MotionRegressorModel(args = cfg_trans.motion_trans , ignore_index=1025 ,pad_value=1025 ).eval()\n",
    "pkg_trans = torch.load(f\"/srv/scratch/sanisetty3/music_motion/motion_vqvae/checkpoints/generator/var_len/trans_768_768_albi_aist/trans_motion_best_fid.pt\", map_location = 'cpu')\n",
    "print(pkg_trans[\"steps\"])\n",
    "trans_model.load_state_dict(pkg_trans[\"model\"])\n",
    "trans_model =trans_model.cuda()\n"
   ]
  },
  {
   "cell_type": "code",
   "execution_count": 90,
   "id": "731c05bd",
   "metadata": {},
   "outputs": [],
   "source": [
    "os.makedirs(\"/srv/scratch/sanisetty3/music_motion/motion_vqvae/evals/generator/var_len/trans_768_768_albi_aist/\", exist_ok=True)"
   ]
  },
  {
   "cell_type": "code",
   "execution_count": null,
   "id": "7e6ab18e",
   "metadata": {},
   "outputs": [],
   "source": []
  },
  {
   "cell_type": "code",
   "execution_count": null,
   "id": "8db607a3",
   "metadata": {},
   "outputs": [],
   "source": []
  },
  {
   "cell_type": "code",
   "execution_count": null,
   "id": "c84053a0",
   "metadata": {},
   "outputs": [],
   "source": []
  },
  {
   "cell_type": "markdown",
   "id": "265496e3",
   "metadata": {},
   "source": [
    "## Motion generation"
   ]
  },
  {
   "cell_type": "code",
   "execution_count": 8,
   "id": "18821699",
   "metadata": {},
   "outputs": [],
   "source": [
    "from core.datasets.vqa_motion_dataset import MotionCollatorConditional,VQVarLenMotionDatasetConditional, TransMotionDatasetConditional,TransMotionDatasetConditionalFull\n",
    "from utils.eval_music import evaluate_music_motion_vqvae, evaluate_music_motion_trans,get_target_indices\n"
   ]
  },
  {
   "cell_type": "code",
   "execution_count": 9,
   "id": "c05b7d68",
   "metadata": {},
   "outputs": [],
   "source": [
    "def process_gen_output(gen_motion_indices , seq_len):\n",
    "    eos_index = (gen_motion_indices == 1026).nonzero().flatten().tolist()\n",
    "    # print(eos_index)\n",
    "    pad_index = (gen_motion_indices == 1025).nonzero().flatten().tolist()\n",
    "    # print(pad_index)\n",
    "    bos_index = (gen_motion_indices == 1024).nonzero().flatten().tolist()\n",
    "    # print(bos_index)\n",
    "    stop_index = min([*eos_index , *pad_index , *bos_index, seq_len])\n",
    "\n",
    "    gen_motion_indices_ = gen_motion_indices[:int(stop_index)]\n",
    "\n",
    "    return gen_motion_indices_\n"
   ]
  },
  {
   "cell_type": "code",
   "execution_count": 10,
   "id": "dc7a13ce",
   "metadata": {},
   "outputs": [],
   "source": [
    "    def get_target_indices2(batch , trans_model , sample_max = False , bos = 1024,pad = 1025,eos = 1026):\n",
    "    ##batch size = 1\n",
    "\n",
    "        inp, target = batch[\"motion\"][:, :-1], batch[\"motion\"][:, 1:]\n",
    "        # print(target.shape)\n",
    "\n",
    "        ##inp: b seqlen-1 target: b seqlen-1\n",
    "        length = int(batch[\"motion_lengths\"][0])\n",
    "        # print(length)\n",
    "\n",
    "        logits = trans_model(motion = inp.cuda() , mask = batch[\"motion_mask\"][:,:-1].cuda()  , \\\n",
    "            context = batch[\"condition\"].cuda(), context_mask = batch[\"condition_mask\"].cuda())\n",
    "\n",
    "        probs = torch.softmax(logits[0][:length], dim=-1)\n",
    "        if sample_max:\n",
    "            _, cls_pred_index = torch.max(probs, dim=-1)\n",
    "\n",
    "        else:\n",
    "            dist = torch.distributions.Categorical(probs)\n",
    "            cls_pred_index = dist.sample()\n",
    "        # print(cls_pred_index.shape)\n",
    "\n",
    "\n",
    "        ## cls_pred_index - list\n",
    "\n",
    "        eos_index = (cls_pred_index == eos).nonzero().flatten().tolist()\n",
    "        # print(eos_index)\n",
    "        pad_index = (cls_pred_index == pad).nonzero().flatten().tolist()\n",
    "        # print(pad_index)\n",
    "        bos_index = (cls_pred_index == bos).nonzero().flatten().tolist()\n",
    "        # print(bos_index)\n",
    "        stop_index = min([*eos_index , *pad_index , *bos_index, length-1])\n",
    "\n",
    "        gen_motion_indices_ = cls_pred_index[:int(stop_index)]\n",
    "        gt_motion_indices_ = target[target<bos]\n",
    "\n",
    "        # print(gen_motion_indices_.dtype , gt_motion_indices_.dtype)\n",
    "\n",
    "\n",
    "        gen_motion_indices_ = (gen_motion_indices_).contiguous().view(1,-1)\n",
    "        gt_motion_indices_ = gt_motion_indices_.contiguous().view(1,-1)\n",
    "        # print(gen_motion_indices_.shape,gt_motion_indices_.shape)\n",
    "\n",
    "\n",
    "        return gen_motion_indices_ , gt_motion_indices_"
   ]
  },
  {
   "cell_type": "code",
   "execution_count": null,
   "id": "92860d5e",
   "metadata": {},
   "outputs": [],
   "source": []
  },
  {
   "cell_type": "code",
   "execution_count": 11,
   "id": "6b0eb4e8",
   "metadata": {},
   "outputs": [
    {
     "name": "stderr",
     "output_type": "stream",
     "text": [
      "100%|██████████| 40/40 [00:00<00:00, 894.99it/s]"
     ]
    },
    {
     "name": "stdout",
     "output_type": "stream",
     "text": [
      "Total number of motions 40\n"
     ]
    },
    {
     "name": "stderr",
     "output_type": "stream",
     "text": [
      "\n"
     ]
    }
   ],
   "source": [
    "train_ds = TransMotionDatasetConditionalFull(\"aist\", split = \"test\",data_root = \"/srv/scratch/sanisetty3/music_motion/AIST\" , datafolder=\"joint_indices_max_400\", window_size = -1)\n"
   ]
  },
  {
   "cell_type": "code",
   "execution_count": 12,
   "id": "c15bc5ba",
   "metadata": {},
   "outputs": [],
   "source": [
    "collate_fn2 = MotionCollatorConditional(dataset_name = \"aist\" , bos = 1024, pad = 1025, eos = 1026)\n"
   ]
  },
  {
   "cell_type": "code",
   "execution_count": 13,
   "id": "1cdd4a38",
   "metadata": {},
   "outputs": [],
   "source": [
    "dl = DATALoader(train_ds , batch_size = 1,collate_fn=collate_fn2)\n"
   ]
  },
  {
   "cell_type": "code",
   "execution_count": 14,
   "id": "6d1b1328",
   "metadata": {},
   "outputs": [
    {
     "name": "stdout",
     "output_type": "stream",
     "text": [
      "motion torch.Size([1, 175])\n",
      "motion_lengths torch.Size([1])\n",
      "motion_mask torch.Size([1, 175])\n",
      "names (1,)\n",
      "condition torch.Size([1, 174, 128])\n",
      "condition_mask torch.Size([1, 174])\n"
     ]
    }
   ],
   "source": [
    "for reg_batch in dl:\n",
    "    break\n",
    "for k,v in reg_batch.items():\n",
    "    print(k , v.shape)\n",
    "    try:\n",
    "        v = v.cuda()\n",
    "    except:\n",
    "        continue"
   ]
  },
  {
   "cell_type": "code",
   "execution_count": 17,
   "id": "6324d043",
   "metadata": {},
   "outputs": [],
   "source": [
    "music_name = str(reg_batch[\"names\"]).split(\"_\")[-2]\n",
    "music_encoding=  np.load(os.path.join(\"/srv/scratch/sanisetty3/music_motion/AIST/music\" , music_name + \".npy\"))"
   ]
  },
  {
   "cell_type": "code",
   "execution_count": 15,
   "id": "aa267573",
   "metadata": {},
   "outputs": [],
   "source": [
    "inp, target = reg_batch[\"motion\"][:, :-1], reg_batch[\"motion\"][:, 1:]"
   ]
  },
  {
   "cell_type": "code",
   "execution_count": 43,
   "id": "66654993",
   "metadata": {},
   "outputs": [
    {
     "data": {
      "text/plain": [
       "torch.Size([1, 1])"
      ]
     },
     "execution_count": 43,
     "metadata": {},
     "output_type": "execute_result"
    }
   ],
   "source": [
    "inp[:,:1].shape"
   ]
  },
  {
   "cell_type": "code",
   "execution_count": 114,
   "id": "c31d062f",
   "metadata": {},
   "outputs": [],
   "source": [
    "gen_motion_indices , gt_motion_indices = get_target_indices2(reg_batch , trans_model)"
   ]
  },
  {
   "cell_type": "code",
   "execution_count": 115,
   "id": "cd2c1673",
   "metadata": {},
   "outputs": [
    {
     "data": {
      "text/plain": [
       "torch.Size([1, 140])"
      ]
     },
     "execution_count": 115,
     "metadata": {},
     "output_type": "execute_result"
    }
   ],
   "source": [
    "gen_motion_indices.shape"
   ]
  },
  {
   "cell_type": "code",
   "execution_count": 111,
   "id": "a622a74d",
   "metadata": {},
   "outputs": [
    {
     "name": "stderr",
     "output_type": "stream",
     "text": [
      "100%|██████████| 400/400 [00:08<00:00, 45.13it/s]\n"
     ]
    }
   ],
   "source": [
    "gen_motion_indices = trans_model.generate(start_tokens =torch.randint(0 , 1024 , (1,1)).cuda(),\\\n",
    "                                          seq_len=400 , \\\n",
    "                                          context = torch.Tensor(music_encoding)[None,...].cuda(), \\\n",
    "                                        context_mask=torch.ones((1 ,music_encoding.shape[0]) , dtype = torch.bool).cuda()\n",
    "                                          )"
   ]
  },
  {
   "cell_type": "code",
   "execution_count": 112,
   "id": "829e30d2",
   "metadata": {},
   "outputs": [],
   "source": [
    "gen_motion_indices = gen_motion_indices[gen_motion_indices<1024][None,...]"
   ]
  },
  {
   "cell_type": "code",
   "execution_count": 113,
   "id": "d64e35ba",
   "metadata": {},
   "outputs": [
    {
     "data": {
      "text/plain": [
       "torch.Size([1, 145])"
      ]
     },
     "execution_count": 113,
     "metadata": {},
     "output_type": "execute_result"
    }
   ],
   "source": [
    "gen_motion_indices.shape"
   ]
  },
  {
   "cell_type": "code",
   "execution_count": 98,
   "id": "c8746b26",
   "metadata": {},
   "outputs": [
    {
     "data": {
      "text/plain": [
       "torch.Size([1, 1])"
      ]
     },
     "execution_count": 98,
     "metadata": {},
     "output_type": "execute_result"
    }
   ],
   "source": [
    "inp[:,:1]"
   ]
  },
  {
   "cell_type": "code",
   "execution_count": 103,
   "id": "8a5c6d13",
   "metadata": {},
   "outputs": [
    {
     "data": {
      "text/plain": [
       "tensor([[958]])"
      ]
     },
     "execution_count": 103,
     "metadata": {},
     "output_type": "execute_result"
    }
   ],
   "source": [
    "torch.randint(0 , 1024 , (1,1))"
   ]
  },
  {
   "cell_type": "code",
   "execution_count": 110,
   "id": "9645a046",
   "metadata": {},
   "outputs": [
    {
     "data": {
      "text/plain": [
       "'mWA0.npy'"
      ]
     },
     "execution_count": 110,
     "metadata": {},
     "output_type": "execute_result"
    }
   ],
   "source": [
    "os.path.basename(musics[0])"
   ]
  },
  {
   "cell_type": "code",
   "execution_count": null,
   "id": "5baa24e9",
   "metadata": {},
   "outputs": [],
   "source": []
  },
  {
   "cell_type": "code",
   "execution_count": null,
   "id": "83410b72",
   "metadata": {},
   "outputs": [],
   "source": []
  },
  {
   "cell_type": "code",
   "execution_count": null,
   "id": "00625379",
   "metadata": {},
   "outputs": [],
   "source": []
  },
  {
   "cell_type": "markdown",
   "id": "4658a8a6",
   "metadata": {},
   "source": [
    "## Generate 20s and save gen + gt"
   ]
  },
  {
   "cell_type": "code",
   "execution_count": 121,
   "id": "c90e8074",
   "metadata": {},
   "outputs": [],
   "source": [
    "gt_path = \"/srv/scratch/sanisetty3/music_motion/AIST/joint_indices_max_400/*\""
   ]
  },
  {
   "cell_type": "code",
   "execution_count": 122,
   "id": "869c7ed8",
   "metadata": {},
   "outputs": [],
   "source": [
    "gts = glob(gt_path)"
   ]
  },
  {
   "cell_type": "code",
   "execution_count": 125,
   "id": "5273dd99",
   "metadata": {},
   "outputs": [
    {
     "data": {
      "text/plain": [
       "'/srv/scratch/sanisetty3/music_motion/AIST/joint_indices_max_400/gBR_sFM_cAll_d06_mBR4_ch20.npy'"
      ]
     },
     "execution_count": 125,
     "metadata": {},
     "output_type": "execute_result"
    }
   ],
   "source": [
    "gts[0]"
   ]
  },
  {
   "cell_type": "code",
   "execution_count": 128,
   "id": "ffecef5c",
   "metadata": {},
   "outputs": [
    {
     "data": {
      "text/plain": [
       "'mBR4'"
      ]
     },
     "execution_count": 128,
     "metadata": {},
     "output_type": "execute_result"
    }
   ],
   "source": [
    "os.path.basename(gts[0]).split(\".\")[0].split('_')[-2]"
   ]
  },
  {
   "cell_type": "code",
   "execution_count": 149,
   "id": "9f05a903",
   "metadata": {},
   "outputs": [],
   "source": [
    "from itertools import groupby\n",
    "\n",
    "a = gts\n",
    "\n",
    "def get_domain(path):\n",
    "    # Example: 'www.google.com' -> 'google.com'\n",
    "    return '.'.join(os.path.basename(path).split(\".\")[0].split('_')[-2])\n",
    "\n",
    "def choose_item(iterable):\n",
    "    # Ex. input: ['www.google.com', 'google.com',  'www.google.com']\n",
    "    # Ex. output: 'www.google.com' (longest string)\n",
    "    return sorted(iterable, key=lambda x: -len(x))[0]\n",
    "\n",
    "results = []\n",
    "for domain,grp in groupby(sorted(a, key=get_domain), key=get_domain):\n",
    "    results.append(choose_item(grp))\n"
   ]
  },
  {
   "cell_type": "code",
   "execution_count": 152,
   "id": "aa5d0c46",
   "metadata": {},
   "outputs": [
    {
     "data": {
      "text/plain": [
       "60"
      ]
     },
     "execution_count": 152,
     "metadata": {},
     "output_type": "execute_result"
    }
   ],
   "source": [
    "gt_motion_indices_path = results\n",
    "len(gt_motion_indices_path)"
   ]
  },
  {
   "cell_type": "code",
   "execution_count": 136,
   "id": "905bbf87",
   "metadata": {},
   "outputs": [],
   "source": [
    "def get_motion(music):\n",
    "    for i in gt_motion_indices_path:\n",
    "        if os.path.basename(i).split(\".\")[0].split('_')[-2] == music:\n",
    "            return i"
   ]
  },
  {
   "cell_type": "code",
   "execution_count": 147,
   "id": "ce4d22b7",
   "metadata": {},
   "outputs": [],
   "source": [
    "save_pth = \"/srv/scratch/sanisetty3/music_motion/motion_vqvae/evals/generator/var_len/trans_768_768_albi_aist/\""
   ]
  },
  {
   "cell_type": "code",
   "execution_count": 154,
   "id": "218874fe",
   "metadata": {
    "scrolled": true
   },
   "outputs": [
    {
     "name": "stdout",
     "output_type": "stream",
     "text": [
      "mWA0\n"
     ]
    },
    {
     "name": "stderr",
     "output_type": "stream",
     "text": [
      "100%|██████████| 400/400 [00:08<00:00, 44.88it/s]\n"
     ]
    },
    {
     "name": "stdout",
     "output_type": "stream",
     "text": [
      "401\n",
      "render start\n",
      "render start\n",
      "mHO0\n"
     ]
    },
    {
     "name": "stderr",
     "output_type": "stream",
     "text": [
      "100%|██████████| 400/400 [00:08<00:00, 44.96it/s]\n"
     ]
    },
    {
     "name": "stdout",
     "output_type": "stream",
     "text": [
      "401\n",
      "render start\n",
      "render start\n",
      "mJB0\n"
     ]
    },
    {
     "name": "stderr",
     "output_type": "stream",
     "text": [
      "100%|██████████| 400/400 [00:08<00:00, 44.89it/s]\n"
     ]
    },
    {
     "name": "stdout",
     "output_type": "stream",
     "text": [
      "401\n",
      "render start\n",
      "render start\n",
      "mMH0\n"
     ]
    },
    {
     "name": "stderr",
     "output_type": "stream",
     "text": [
      "100%|██████████| 400/400 [00:08<00:00, 44.95it/s]\n"
     ]
    },
    {
     "name": "stdout",
     "output_type": "stream",
     "text": [
      "401\n",
      "render start\n",
      "render start\n",
      "mPO0\n"
     ]
    },
    {
     "name": "stderr",
     "output_type": "stream",
     "text": [
      "100%|██████████| 400/400 [00:08<00:00, 44.88it/s]\n"
     ]
    },
    {
     "name": "stdout",
     "output_type": "stream",
     "text": [
      "401\n",
      "render start\n",
      "render start\n",
      "mJS0\n"
     ]
    },
    {
     "name": "stderr",
     "output_type": "stream",
     "text": [
      "100%|██████████| 400/400 [00:08<00:00, 44.90it/s]\n"
     ]
    },
    {
     "name": "stdout",
     "output_type": "stream",
     "text": [
      "401\n",
      "render start\n",
      "render start\n",
      "mBR3\n"
     ]
    },
    {
     "name": "stderr",
     "output_type": "stream",
     "text": [
      "100%|██████████| 400/400 [00:08<00:00, 44.92it/s]\n"
     ]
    },
    {
     "name": "stdout",
     "output_type": "stream",
     "text": [
      "401\n",
      "render start\n",
      "render start\n",
      "mBR4\n"
     ]
    },
    {
     "name": "stderr",
     "output_type": "stream",
     "text": [
      "100%|██████████| 400/400 [00:08<00:00, 44.91it/s]\n"
     ]
    },
    {
     "name": "stdout",
     "output_type": "stream",
     "text": [
      "401\n",
      "render start\n",
      "render start\n",
      "mLH0\n"
     ]
    },
    {
     "name": "stderr",
     "output_type": "stream",
     "text": [
      "100%|██████████| 400/400 [00:08<00:00, 44.88it/s]\n"
     ]
    },
    {
     "name": "stdout",
     "output_type": "stream",
     "text": [
      "401\n",
      "render start\n",
      "render start\n",
      "mLO2\n"
     ]
    },
    {
     "name": "stderr",
     "output_type": "stream",
     "text": [
      "100%|██████████| 400/400 [00:08<00:00, 44.94it/s]\n"
     ]
    },
    {
     "name": "stdout",
     "output_type": "stream",
     "text": [
      "401\n",
      "render start\n",
      "render start\n",
      "mKR1\n"
     ]
    },
    {
     "name": "stderr",
     "output_type": "stream",
     "text": [
      "100%|██████████| 400/400 [00:08<00:00, 44.90it/s]\n"
     ]
    },
    {
     "name": "stdout",
     "output_type": "stream",
     "text": [
      "401\n",
      "render start\n",
      "render start\n",
      "mLO5\n"
     ]
    },
    {
     "name": "stderr",
     "output_type": "stream",
     "text": [
      "100%|██████████| 400/400 [00:08<00:00, 44.63it/s]\n"
     ]
    },
    {
     "name": "stdout",
     "output_type": "stream",
     "text": [
      "401\n",
      "render start\n",
      "render start\n",
      "mMH1\n"
     ]
    },
    {
     "name": "stderr",
     "output_type": "stream",
     "text": [
      "100%|██████████| 400/400 [00:08<00:00, 44.93it/s]\n"
     ]
    },
    {
     "name": "stdout",
     "output_type": "stream",
     "text": [
      "401\n",
      "render start\n",
      "render start\n",
      "mPO1\n"
     ]
    },
    {
     "name": "stderr",
     "output_type": "stream",
     "text": [
      "100%|██████████| 400/400 [00:08<00:00, 44.88it/s]\n"
     ]
    },
    {
     "name": "stdout",
     "output_type": "stream",
     "text": [
      "401\n",
      "render start\n",
      "render start\n",
      "mJB1\n"
     ]
    },
    {
     "name": "stderr",
     "output_type": "stream",
     "text": [
      "100%|██████████| 400/400 [00:09<00:00, 42.15it/s]\n"
     ]
    },
    {
     "name": "stdout",
     "output_type": "stream",
     "text": [
      "401\n",
      "render start\n",
      "render start\n",
      "mHO1\n"
     ]
    },
    {
     "name": "stderr",
     "output_type": "stream",
     "text": [
      "100%|██████████| 400/400 [00:08<00:00, 44.85it/s]\n"
     ]
    },
    {
     "name": "stdout",
     "output_type": "stream",
     "text": [
      "401\n",
      "render start\n",
      "render start\n",
      "mWA1\n"
     ]
    },
    {
     "name": "stderr",
     "output_type": "stream",
     "text": [
      "100%|██████████| 400/400 [00:08<00:00, 45.02it/s]\n"
     ]
    },
    {
     "name": "stdout",
     "output_type": "stream",
     "text": [
      "401\n",
      "render start\n",
      "render start\n",
      "mKR0\n"
     ]
    },
    {
     "name": "stderr",
     "output_type": "stream",
     "text": [
      "100%|██████████| 400/400 [00:08<00:00, 45.10it/s]\n"
     ]
    },
    {
     "name": "stdout",
     "output_type": "stream",
     "text": [
      "401\n",
      "render start\n",
      "render start\n",
      "mLO4\n"
     ]
    },
    {
     "name": "stderr",
     "output_type": "stream",
     "text": [
      "100%|██████████| 400/400 [00:08<00:00, 45.00it/s]\n"
     ]
    },
    {
     "name": "stdout",
     "output_type": "stream",
     "text": [
      "401\n",
      "render start\n",
      "render start\n",
      "mLO3\n"
     ]
    },
    {
     "name": "stderr",
     "output_type": "stream",
     "text": [
      "100%|██████████| 400/400 [00:08<00:00, 44.94it/s]\n"
     ]
    },
    {
     "name": "stdout",
     "output_type": "stream",
     "text": [
      "401\n",
      "render start\n",
      "render start\n",
      "mLH1\n"
     ]
    },
    {
     "name": "stderr",
     "output_type": "stream",
     "text": [
      "100%|██████████| 400/400 [00:08<00:00, 44.94it/s]\n"
     ]
    },
    {
     "name": "stdout",
     "output_type": "stream",
     "text": [
      "401\n",
      "render start\n",
      "render start\n",
      "mBR5\n"
     ]
    },
    {
     "name": "stderr",
     "output_type": "stream",
     "text": [
      "100%|██████████| 400/400 [00:08<00:00, 45.49it/s]\n"
     ]
    },
    {
     "name": "stdout",
     "output_type": "stream",
     "text": [
      "401\n",
      "render start\n",
      "render start\n",
      "mJS1\n"
     ]
    },
    {
     "name": "stderr",
     "output_type": "stream",
     "text": [
      "100%|██████████| 400/400 [00:08<00:00, 45.05it/s]\n"
     ]
    },
    {
     "name": "stdout",
     "output_type": "stream",
     "text": [
      "401\n",
      "render start\n",
      "render start\n",
      "mBR2\n"
     ]
    },
    {
     "name": "stderr",
     "output_type": "stream",
     "text": [
      "100%|██████████| 400/400 [00:08<00:00, 45.05it/s]\n"
     ]
    },
    {
     "name": "stdout",
     "output_type": "stream",
     "text": [
      "401\n",
      "render start\n",
      "render start\n",
      "mKR4\n"
     ]
    },
    {
     "name": "stderr",
     "output_type": "stream",
     "text": [
      "100%|██████████| 400/400 [00:08<00:00, 44.90it/s]\n"
     ]
    },
    {
     "name": "stdout",
     "output_type": "stream",
     "text": [
      "401\n",
      "render start\n",
      "render start\n",
      "mLO0\n"
     ]
    },
    {
     "name": "stderr",
     "output_type": "stream",
     "text": [
      "100%|██████████| 400/400 [00:08<00:00, 44.47it/s]\n"
     ]
    },
    {
     "name": "stdout",
     "output_type": "stream",
     "text": [
      "401\n",
      "render start\n",
      "render start\n",
      "mKR3\n"
     ]
    },
    {
     "name": "stderr",
     "output_type": "stream",
     "text": [
      "100%|██████████| 400/400 [01:05<00:00,  6.12it/s]\n"
     ]
    },
    {
     "name": "stdout",
     "output_type": "stream",
     "text": [
      "401\n",
      "render start\n",
      "render start\n",
      "mLH5\n"
     ]
    },
    {
     "name": "stderr",
     "output_type": "stream",
     "text": [
      "100%|██████████| 400/400 [01:06<00:00,  6.00it/s]\n"
     ]
    },
    {
     "name": "stdout",
     "output_type": "stream",
     "text": [
      "401\n",
      "render start\n",
      "render start\n",
      "mLH2\n"
     ]
    },
    {
     "name": "stderr",
     "output_type": "stream",
     "text": [
      "100%|██████████| 400/400 [01:05<00:00,  6.13it/s]\n"
     ]
    },
    {
     "name": "stdout",
     "output_type": "stream",
     "text": [
      "401\n",
      "render start\n",
      "render start\n",
      "mBR1\n"
     ]
    },
    {
     "name": "stderr",
     "output_type": "stream",
     "text": [
      "100%|██████████| 400/400 [01:05<00:00,  6.09it/s]\n"
     ]
    },
    {
     "name": "stdout",
     "output_type": "stream",
     "text": [
      "401\n",
      "render start\n",
      "render start\n",
      "mJS2\n"
     ]
    },
    {
     "name": "stderr",
     "output_type": "stream",
     "text": [
      "100%|██████████| 400/400 [01:05<00:00,  6.13it/s]\n"
     ]
    },
    {
     "name": "stdout",
     "output_type": "stream",
     "text": [
      "401\n",
      "render start\n",
      "render start\n",
      "mJS5\n"
     ]
    },
    {
     "name": "stderr",
     "output_type": "stream",
     "text": [
      "100%|██████████| 400/400 [01:05<00:00,  6.10it/s]\n"
     ]
    },
    {
     "name": "stdout",
     "output_type": "stream",
     "text": [
      "401\n",
      "render start\n",
      "render start\n",
      "mPO5\n"
     ]
    },
    {
     "name": "stderr",
     "output_type": "stream",
     "text": [
      "100%|██████████| 400/400 [01:05<00:00,  6.14it/s]\n"
     ]
    },
    {
     "name": "stdout",
     "output_type": "stream",
     "text": [
      "401\n",
      "render start\n",
      "render start\n",
      "mMH5\n"
     ]
    },
    {
     "name": "stderr",
     "output_type": "stream",
     "text": [
      "100%|██████████| 400/400 [01:05<00:00,  6.15it/s]\n"
     ]
    },
    {
     "name": "stdout",
     "output_type": "stream",
     "text": [
      "401\n",
      "render start\n",
      "render start\n",
      "mJB2\n"
     ]
    },
    {
     "name": "stderr",
     "output_type": "stream",
     "text": [
      "100%|██████████| 400/400 [00:26<00:00, 15.38it/s]\n"
     ]
    },
    {
     "name": "stdout",
     "output_type": "stream",
     "text": [
      "401\n",
      "render start\n",
      "render start\n",
      "mJB5\n"
     ]
    },
    {
     "name": "stderr",
     "output_type": "stream",
     "text": [
      "100%|██████████| 400/400 [00:14<00:00, 28.05it/s]\n"
     ]
    },
    {
     "name": "stdout",
     "output_type": "stream",
     "text": [
      "401\n",
      "render start\n",
      "render start\n",
      "mMH2\n"
     ]
    },
    {
     "name": "stderr",
     "output_type": "stream",
     "text": [
      "100%|██████████| 400/400 [00:08<00:00, 45.11it/s]\n"
     ]
    },
    {
     "name": "stdout",
     "output_type": "stream",
     "text": [
      "401\n",
      "render start\n",
      "render start\n",
      "mPO2\n"
     ]
    },
    {
     "name": "stderr",
     "output_type": "stream",
     "text": [
      "100%|██████████| 400/400 [00:08<00:00, 45.03it/s]\n"
     ]
    },
    {
     "name": "stdout",
     "output_type": "stream",
     "text": [
      "401\n",
      "render start\n",
      "render start\n",
      "mHO2\n"
     ]
    },
    {
     "name": "stderr",
     "output_type": "stream",
     "text": [
      "100%|██████████| 400/400 [00:08<00:00, 44.99it/s]\n"
     ]
    },
    {
     "name": "stdout",
     "output_type": "stream",
     "text": [
      "401\n",
      "render start\n",
      "render start\n",
      "mHO5\n"
     ]
    },
    {
     "name": "stderr",
     "output_type": "stream",
     "text": [
      "100%|██████████| 400/400 [00:08<00:00, 44.89it/s]\n"
     ]
    },
    {
     "name": "stdout",
     "output_type": "stream",
     "text": [
      "401\n",
      "render start\n",
      "render start\n",
      "mWA5\n"
     ]
    },
    {
     "name": "stderr",
     "output_type": "stream",
     "text": [
      "100%|██████████| 400/400 [00:08<00:00, 45.38it/s]\n"
     ]
    },
    {
     "name": "stdout",
     "output_type": "stream",
     "text": [
      "401\n",
      "render start\n",
      "render start\n",
      "mWA2\n"
     ]
    },
    {
     "name": "stderr",
     "output_type": "stream",
     "text": [
      "100%|██████████| 400/400 [00:08<00:00, 45.04it/s]\n"
     ]
    },
    {
     "name": "stdout",
     "output_type": "stream",
     "text": [
      "401\n",
      "render start\n",
      "render start\n",
      "mJS4\n"
     ]
    },
    {
     "name": "stderr",
     "output_type": "stream",
     "text": [
      "100%|██████████| 400/400 [00:08<00:00, 45.03it/s]\n"
     ]
    },
    {
     "name": "stdout",
     "output_type": "stream",
     "text": [
      "401\n",
      "render start\n",
      "render start\n",
      "mBR0\n"
     ]
    },
    {
     "name": "stderr",
     "output_type": "stream",
     "text": [
      "100%|██████████| 400/400 [00:09<00:00, 41.40it/s]\n"
     ]
    },
    {
     "name": "stdout",
     "output_type": "stream",
     "text": [
      "401\n",
      "render start\n",
      "render start\n",
      "mJS3\n"
     ]
    },
    {
     "name": "stderr",
     "output_type": "stream",
     "text": [
      "100%|██████████| 400/400 [00:08<00:00, 44.98it/s]\n"
     ]
    },
    {
     "name": "stdout",
     "output_type": "stream",
     "text": [
      "401\n",
      "render start\n",
      "render start\n",
      "mLH3\n"
     ]
    },
    {
     "name": "stderr",
     "output_type": "stream",
     "text": [
      "100%|██████████| 400/400 [00:09<00:00, 41.79it/s]\n"
     ]
    },
    {
     "name": "stdout",
     "output_type": "stream",
     "text": [
      "401\n",
      "render start\n",
      "render start\n",
      "mLH4\n"
     ]
    },
    {
     "name": "stderr",
     "output_type": "stream",
     "text": [
      "100%|██████████| 400/400 [00:08<00:00, 45.33it/s]\n"
     ]
    },
    {
     "name": "stdout",
     "output_type": "stream",
     "text": [
      "401\n",
      "render start\n",
      "render start\n",
      "mKR2\n"
     ]
    },
    {
     "name": "stderr",
     "output_type": "stream",
     "text": [
      "100%|██████████| 400/400 [00:14<00:00, 27.65it/s]\n"
     ]
    },
    {
     "name": "stdout",
     "output_type": "stream",
     "text": [
      "401\n",
      "render start\n",
      "render start\n",
      "mKR5\n"
     ]
    },
    {
     "name": "stderr",
     "output_type": "stream",
     "text": [
      "100%|██████████| 400/400 [00:14<00:00, 27.21it/s]\n"
     ]
    },
    {
     "name": "stdout",
     "output_type": "stream",
     "text": [
      "401\n",
      "render start\n",
      "render start\n",
      "mLO1\n"
     ]
    },
    {
     "name": "stderr",
     "output_type": "stream",
     "text": [
      "100%|██████████| 400/400 [00:14<00:00, 27.35it/s]\n"
     ]
    },
    {
     "name": "stdout",
     "output_type": "stream",
     "text": [
      "401\n",
      "render start\n",
      "render start\n",
      "mWA3\n"
     ]
    },
    {
     "name": "stderr",
     "output_type": "stream",
     "text": [
      "100%|██████████| 400/400 [00:14<00:00, 27.26it/s]\n"
     ]
    },
    {
     "name": "stdout",
     "output_type": "stream",
     "text": [
      "401\n",
      "render start\n",
      "render start\n",
      "mWA4\n"
     ]
    },
    {
     "name": "stderr",
     "output_type": "stream",
     "text": [
      "100%|██████████| 400/400 [00:08<00:00, 44.97it/s]\n"
     ]
    },
    {
     "name": "stdout",
     "output_type": "stream",
     "text": [
      "401\n",
      "render start\n",
      "render start\n",
      "mHO4\n"
     ]
    },
    {
     "name": "stderr",
     "output_type": "stream",
     "text": [
      "100%|██████████| 400/400 [00:08<00:00, 44.99it/s]\n"
     ]
    },
    {
     "name": "stdout",
     "output_type": "stream",
     "text": [
      "401\n",
      "render start\n",
      "render start\n",
      "mHO3\n"
     ]
    },
    {
     "name": "stderr",
     "output_type": "stream",
     "text": [
      "100%|██████████| 400/400 [00:08<00:00, 44.99it/s]\n"
     ]
    },
    {
     "name": "stdout",
     "output_type": "stream",
     "text": [
      "401\n",
      "render start\n",
      "render start\n",
      "mMH3\n"
     ]
    },
    {
     "name": "stderr",
     "output_type": "stream",
     "text": [
      "100%|██████████| 400/400 [00:08<00:00, 44.93it/s]\n"
     ]
    },
    {
     "name": "stdout",
     "output_type": "stream",
     "text": [
      "401\n",
      "render start\n",
      "render start\n",
      "mJB4\n"
     ]
    },
    {
     "name": "stderr",
     "output_type": "stream",
     "text": [
      "100%|██████████| 400/400 [00:08<00:00, 44.87it/s]\n"
     ]
    },
    {
     "name": "stdout",
     "output_type": "stream",
     "text": [
      "401\n",
      "render start\n",
      "render start\n",
      "mPO3\n"
     ]
    },
    {
     "name": "stderr",
     "output_type": "stream",
     "text": [
      "100%|██████████| 400/400 [00:08<00:00, 44.78it/s]\n"
     ]
    },
    {
     "name": "stdout",
     "output_type": "stream",
     "text": [
      "401\n",
      "render start\n",
      "render start\n",
      "mPO4\n"
     ]
    },
    {
     "name": "stderr",
     "output_type": "stream",
     "text": [
      "100%|██████████| 400/400 [00:08<00:00, 45.25it/s]\n"
     ]
    },
    {
     "name": "stdout",
     "output_type": "stream",
     "text": [
      "401\n",
      "render start\n",
      "render start\n",
      "mJB3\n"
     ]
    },
    {
     "name": "stderr",
     "output_type": "stream",
     "text": [
      "100%|██████████| 400/400 [00:08<00:00, 44.87it/s]\n"
     ]
    },
    {
     "name": "stdout",
     "output_type": "stream",
     "text": [
      "401\n",
      "render start\n",
      "render start\n",
      "mMH4\n"
     ]
    },
    {
     "name": "stderr",
     "output_type": "stream",
     "text": [
      "100%|██████████| 400/400 [00:08<00:00, 45.01it/s]\n"
     ]
    },
    {
     "name": "stdout",
     "output_type": "stream",
     "text": [
      "401\n",
      "render start\n",
      "render start\n"
     ]
    }
   ],
   "source": [
    "musics = glob(\"/srv/scratch/sanisetty3/music_motion/AIST/music/*\")\n",
    "for music_path in musics:\n",
    "    \n",
    "\n",
    "    # music_name = str(reg_batch[\"names\"]).split(\"_\")[-2]\n",
    "    music_encoding=  np.load(os.path.join(music_path))\n",
    "    music_name = os.path.basename(music_path).split(\".\")[0]\n",
    "    print(music_name)\n",
    "    motion_indices_path = get_motion(music_name)\n",
    "    gt_motion_indices = torch.LongTensor(np.load(motion_indices_path))[None,...]\n",
    "    gen_motion_indices = inp[:,:1]\n",
    "    while gen_motion_indices.shape[1]<=400:\n",
    "        gen_motion_indices = trans_model.generate(start_tokens =gen_motion_indices.cuda(),\\\n",
    "                                              seq_len=400 , \\\n",
    "                                              context = torch.Tensor(music_encoding)[None,...].cuda(), \\\n",
    "                                            context_mask=torch.ones((1 ,music_encoding.shape[0]) , dtype = torch.bool).cuda()\n",
    "                                              )\n",
    "        gen_motion_indices = gen_motion_indices[gen_motion_indices<1024][None,...]\n",
    "        print(gen_motion_indices.shape[1])\n",
    "        \n",
    "    \n",
    "    quant , out_motion = vqvae_model.decode(gen_motion_indices.cuda())\n",
    "    np.save(os.path.join(save_pth , music_name+\".npy\" ,) , out_motion.cpu().numpy())\n",
    "\n",
    "    sample_render(to_xyz(out_motion[0:1].detach().cpu(),mean = train_ds.mean , std = train_ds.std), name = music_name+\"\" , save_path = save_pth)\n",
    "    \n",
    "    quant , out_motion = vqvae_model.decode(gt_motion_indices.cuda())\n",
    "    sample_render(to_xyz(out_motion[0:1].detach().cpu(),mean = train_ds.mean , std = train_ds.std), name = music_name+\"_gt\" , save_path = save_pth)\n",
    "    \n",
    "    gt_motion_indices"
   ]
  },
  {
   "cell_type": "code",
   "execution_count": null,
   "id": "6fdee389",
   "metadata": {},
   "outputs": [],
   "source": []
  },
  {
   "cell_type": "code",
   "execution_count": 35,
   "id": "4c55ddc0",
   "metadata": {},
   "outputs": [],
   "source": [
    "processed_gen_output = process_gen_output(gen_motion_indices[0] , 400)"
   ]
  },
  {
   "cell_type": "code",
   "execution_count": 36,
   "id": "f0123e51",
   "metadata": {},
   "outputs": [
    {
     "data": {
      "text/plain": [
       "torch.Size([119])"
      ]
     },
     "execution_count": 36,
     "metadata": {},
     "output_type": "execute_result"
    }
   ],
   "source": [
    "processed_gen_output.shape"
   ]
  },
  {
   "cell_type": "code",
   "execution_count": 114,
   "id": "b6b42478",
   "metadata": {
    "scrolled": true
   },
   "outputs": [
    {
     "name": "stdout",
     "output_type": "stream",
     "text": [
      "render start\n"
     ]
    }
   ],
   "source": [
    "quant , out_motion = vqvae_model.decode(gen_motion_indices.cuda())\n",
    "sample_render(to_xyz(out_motion[0:1].detach().cpu(),mean = train_ds.mean , std = train_ds.std), \"rnd_motion\" , \"/srv/scratch/sanisetty3/music_motion/motion_vqvae/evals/decode_test\")"
   ]
  },
  {
   "cell_type": "markdown",
   "id": "4f7a762b",
   "metadata": {},
   "source": [
    "## Genre specific FID"
   ]
  },
  {
   "cell_type": "code",
   "execution_count": null,
   "id": "b338e8d8",
   "metadata": {},
   "outputs": [],
   "source": [
    "Need to group motion "
   ]
  },
  {
   "cell_type": "code",
   "execution_count": null,
   "id": "80f7c4b1",
   "metadata": {},
   "outputs": [],
   "source": []
  },
  {
   "cell_type": "code",
   "execution_count": null,
   "id": "c34c7274",
   "metadata": {},
   "outputs": [],
   "source": []
  },
  {
   "cell_type": "code",
   "execution_count": null,
   "id": "be68dd3b",
   "metadata": {},
   "outputs": [],
   "source": []
  }
 ],
 "metadata": {
  "kernelspec": {
   "display_name": "Python 3",
   "language": "python",
   "name": "python3"
  },
  "language_info": {
   "codemirror_mode": {
    "name": "ipython",
    "version": 3
   },
   "file_extension": ".py",
   "mimetype": "text/x-python",
   "name": "python",
   "nbconvert_exporter": "python",
   "pygments_lexer": "ipython3",
   "version": "3.7.11"
  }
 },
 "nbformat": 4,
 "nbformat_minor": 5
}
