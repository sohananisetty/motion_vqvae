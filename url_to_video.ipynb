{
 "cells": [
  {
   "cell_type": "code",
   "execution_count": 35,
   "id": "c8fdd296",
   "metadata": {},
   "outputs": [],
   "source": [
    "# importing the module\n",
    "from pytube import YouTube\n",
    "from tqdm import tqdm"
   ]
  },
  {
   "cell_type": "code",
   "execution_count": null,
   "id": "dbd8e116",
   "metadata": {},
   "outputs": [],
   "source": []
  },
  {
   "cell_type": "code",
   "execution_count": 34,
   "id": "8f149ca7",
   "metadata": {},
   "outputs": [
    {
     "name": "stdout",
     "output_type": "stream",
     "text": [
      "True\n",
      "False\n"
     ]
    }
   ],
   "source": [
    "for i in yt.streams.filter(file_extension='mp4' , res = \"720p\" , progressive=False,):\n",
    "    print(i.is_progressive)"
   ]
  },
  {
   "cell_type": "code",
   "execution_count": 32,
   "id": "2dbaa7ff",
   "metadata": {},
   "outputs": [
    {
     "name": "stdout",
     "output_type": "stream",
     "text": [
      "139\n"
     ]
    }
   ],
   "source": [
    "for i in yt.streams.filter(only_audio=True , abr = \"48kbps\"):\n",
    "    print(i.itag)"
   ]
  },
  {
   "cell_type": "code",
   "execution_count": 27,
   "id": "ae888763",
   "metadata": {},
   "outputs": [],
   "source": [
    "\n",
    "with open(\"/srv/hays-lab/scratch/sanisetty3/music_motion/Choreomaster/everybodydancenow.txt\" , \"r\") as f:\n",
    "    lines = f.readlines()"
   ]
  },
  {
   "cell_type": "code",
   "execution_count": null,
   "id": "dc692510",
   "metadata": {},
   "outputs": [],
   "source": []
  },
  {
   "cell_type": "code",
   "execution_count": 40,
   "id": "87d6957b",
   "metadata": {},
   "outputs": [
    {
     "name": "stderr",
     "output_type": "stream",
     "text": [
      "100%|██████████| 100/100 [06:01<00:00,  3.62s/it]\n"
     ]
    }
   ],
   "source": [
    "for idx , url in enumerate(tqdm(lines)):\n",
    "    url = url.rstrip()\n",
    "    try:\n",
    "        yt = YouTube(url)\n",
    "        for i in yt.streams.filter(only_audio=True , abr = \"48kbps\"):\n",
    "            stream = yt.streams.get_by_itag(i.itag)\n",
    "            stream.download( output_path = \"/srv/hays-lab/scratch/sanisetty3/mmhuman3d/inputs/music/\",filename = f\"{idx}.mp3\")\n",
    "\n",
    "        for i in yt.streams.filter(file_extension='mp4' , res = \"720p\" , progressive=False,):\n",
    "            if i.is_progressive is False:\n",
    "                stream = yt.streams.get_by_itag(i.itag)\n",
    "                stream.download(output_path = \"/srv/hays-lab/scratch/sanisetty3/mmhuman3d/inputs/video/\",filename = f\"{idx}.mp4\")\n",
    "\n",
    "    except:\n",
    "        continue"
   ]
  },
  {
   "cell_type": "code",
   "execution_count": 46,
   "id": "b29329c1",
   "metadata": {},
   "outputs": [],
   "source": [
    "# !wget -h"
   ]
  },
  {
   "cell_type": "code",
   "execution_count": 45,
   "id": "62475641",
   "metadata": {},
   "outputs": [],
   "source": [
    "# !wget \"https://openmmlab-share.oss-cn-hangzhou.aliyuncs.com/mmhuman3d/models/pare/hrnet_pretrain.pth?versionId=CAEQOhiBgMC26fSigxgiIGViMTFiZmJkZDljMDRhMWY4Mjc5Y2UzNzBmYzU1MGVk\" -P \"/srv/hays-lab/scratch/sanisetty3/mmhuman3d/data/pretrained\""
   ]
  },
  {
   "cell_type": "code",
   "execution_count": null,
   "id": "62a6ee73",
   "metadata": {},
   "outputs": [],
   "source": []
  },
  {
   "cell_type": "code",
   "execution_count": null,
   "id": "acf5257c",
   "metadata": {},
   "outputs": [],
   "source": []
  },
  {
   "cell_type": "code",
   "execution_count": null,
   "id": "f26f3208",
   "metadata": {},
   "outputs": [],
   "source": []
  },
  {
   "cell_type": "code",
   "execution_count": 47,
   "id": "34e46ffb",
   "metadata": {},
   "outputs": [
    {
     "name": "stdout",
     "output_type": "stream",
     "text": [
      "/coc/scratch/sanisetty3/mmhuman3d\n"
     ]
    }
   ],
   "source": [
    "%cd /srv/hays-lab/scratch/sanisetty3/mmhuman3d"
   ]
  },
  {
   "cell_type": "code",
   "execution_count": 49,
   "id": "989b045e",
   "metadata": {},
   "outputs": [
    {
     "name": "stdout",
     "output_type": "stream",
     "text": [
      "Traceback (most recent call last):\r\n",
      "  File \"demo/estimate_smpl.py\", line 8, in <module>\r\n",
      "    import mmcv\r\n",
      "ModuleNotFoundError: No module named 'mmcv'\r\n"
     ]
    }
   ],
   "source": [
    "!python demo/estimate_smpl.py \\\n",
    "    configs/hmr/hrnet_w32_conv_pare_mix_no_mosh.py \\\n",
    "    /srv/hays-lab/scratch/sanisetty3/mmhuman3d/data/pretrained/hrnet_w32_conv_pare_coco.pth \\\n",
    "    --single_person_demo \\\n",
    "    --det_config demo/mmdetection_cfg/faster_rcnn_r50_fpn_coco.py \\\n",
    "    --det_checkpoint https://download.openmmlab.com/mmdetection/v2.0/faster_rcnn/faster_rcnn_r50_fpn_1x_coco/faster_rcnn_r50_fpn_1x_coco_20200130-047c8118.pth \\\n",
    "    --input_path  \"/srv/hays-lab/scratch/sanisetty3/mmhuman3d/inputs/video/0.mp4\" \\\n",
    "    --show_path vis_results/single_person_demo.mp4 \\\n",
    "    --output demo_result \\\n",
    "    --smooth_type savgol \\\n",
    "    --speed_up_type deciwatch \\\n",
    "    --draw_bbox"
   ]
  },
  {
   "cell_type": "code",
   "execution_count": null,
   "id": "936dc376",
   "metadata": {},
   "outputs": [],
   "source": []
  }
 ],
 "metadata": {
  "kernelspec": {
   "display_name": "Python 3",
   "language": "python",
   "name": "python3"
  },
  "language_info": {
   "codemirror_mode": {
    "name": "ipython",
    "version": 3
   },
   "file_extension": ".py",
   "mimetype": "text/x-python",
   "name": "python",
   "nbconvert_exporter": "python",
   "pygments_lexer": "ipython3",
   "version": "3.7.11"
  }
 },
 "nbformat": 4,
 "nbformat_minor": 5
}
